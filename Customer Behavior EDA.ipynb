{
 "cells": [
  {
   "cell_type": "markdown",
   "id": "dd86db3f-ee8f-4caa-aa0c-fafaf8eca5cc",
   "metadata": {},
   "source": [
    "# EDA Project on Ecommerce"
   ]
  },
  {
   "cell_type": "markdown",
   "id": "626d5452-f86e-431f-bcef-04dc5f757489",
   "metadata": {},
   "source": [
    "# Importing required libraries"
   ]
  },
  {
   "cell_type": "code",
   "execution_count": 3,
   "id": "1aa7da23-ccea-47b5-8c13-d05af85e7d9a",
   "metadata": {},
   "outputs": [],
   "source": [
    "import pandas as pd\n",
    "import numpy as np"
   ]
  },
  {
   "cell_type": "markdown",
   "id": "1b5467d9-376f-41c9-b48d-2bd1e8f09f4a",
   "metadata": {},
   "source": [
    "# # Loading the DataSet"
   ]
  },
  {
   "cell_type": "code",
   "execution_count": 5,
   "id": "05fb7ff4-043b-4aa7-831b-5780f99b23f9",
   "metadata": {},
   "outputs": [],
   "source": [
    "df = pd.read_csv(\"dataset.csv\",encoding = 'ISO-8859-1')"
   ]
  },
  {
   "cell_type": "markdown",
   "id": "23a2f5be-8303-4fee-8049-e2fbf589c6a4",
   "metadata": {},
   "source": [
    "# Number of Records"
   ]
  },
  {
   "cell_type": "code",
   "execution_count": 7,
   "id": "7cfa44bc-b62a-4aa3-847a-16a382149567",
   "metadata": {},
   "outputs": [
    {
     "data": {
      "text/plain": [
       "(541909, 8)"
      ]
     },
     "execution_count": 7,
     "metadata": {},
     "output_type": "execute_result"
    }
   ],
   "source": [
    "df.shape"
   ]
  },
  {
   "cell_type": "markdown",
   "id": "a3808cf3-17c3-4149-8a7d-181bbee3ebd8",
   "metadata": {},
   "source": [
    "# Access first five rows"
   ]
  },
  {
   "cell_type": "code",
   "execution_count": 9,
   "id": "7d45555d-aec7-4c89-8ece-bbe138267afc",
   "metadata": {},
   "outputs": [
    {
     "data": {
      "text/html": [
       "<div>\n",
       "<style scoped>\n",
       "    .dataframe tbody tr th:only-of-type {\n",
       "        vertical-align: middle;\n",
       "    }\n",
       "\n",
       "    .dataframe tbody tr th {\n",
       "        vertical-align: top;\n",
       "    }\n",
       "\n",
       "    .dataframe thead th {\n",
       "        text-align: right;\n",
       "    }\n",
       "</style>\n",
       "<table border=\"1\" class=\"dataframe\">\n",
       "  <thead>\n",
       "    <tr style=\"text-align: right;\">\n",
       "      <th></th>\n",
       "      <th>InvoiceNo</th>\n",
       "      <th>StockCode</th>\n",
       "      <th>Description</th>\n",
       "      <th>Quantity</th>\n",
       "      <th>InvoiceDate</th>\n",
       "      <th>UnitPrice</th>\n",
       "      <th>CustomerID</th>\n",
       "      <th>Country</th>\n",
       "    </tr>\n",
       "  </thead>\n",
       "  <tbody>\n",
       "    <tr>\n",
       "      <th>0</th>\n",
       "      <td>536365</td>\n",
       "      <td>85123A</td>\n",
       "      <td>WHITE HANGING HEART T-LIGHT HOLDER</td>\n",
       "      <td>6</td>\n",
       "      <td>12/1/2010 8:26</td>\n",
       "      <td>2.55</td>\n",
       "      <td>17850.0</td>\n",
       "      <td>United Kingdom</td>\n",
       "    </tr>\n",
       "    <tr>\n",
       "      <th>1</th>\n",
       "      <td>536365</td>\n",
       "      <td>71053</td>\n",
       "      <td>WHITE METAL LANTERN</td>\n",
       "      <td>6</td>\n",
       "      <td>12/1/2010 8:26</td>\n",
       "      <td>3.39</td>\n",
       "      <td>17850.0</td>\n",
       "      <td>United Kingdom</td>\n",
       "    </tr>\n",
       "    <tr>\n",
       "      <th>2</th>\n",
       "      <td>536365</td>\n",
       "      <td>84406B</td>\n",
       "      <td>CREAM CUPID HEARTS COAT HANGER</td>\n",
       "      <td>8</td>\n",
       "      <td>12/1/2010 8:26</td>\n",
       "      <td>2.75</td>\n",
       "      <td>17850.0</td>\n",
       "      <td>United Kingdom</td>\n",
       "    </tr>\n",
       "    <tr>\n",
       "      <th>3</th>\n",
       "      <td>536365</td>\n",
       "      <td>84029G</td>\n",
       "      <td>KNITTED UNION FLAG HOT WATER BOTTLE</td>\n",
       "      <td>6</td>\n",
       "      <td>12/1/2010 8:26</td>\n",
       "      <td>3.39</td>\n",
       "      <td>17850.0</td>\n",
       "      <td>United Kingdom</td>\n",
       "    </tr>\n",
       "    <tr>\n",
       "      <th>4</th>\n",
       "      <td>536365</td>\n",
       "      <td>84029E</td>\n",
       "      <td>RED WOOLLY HOTTIE WHITE HEART.</td>\n",
       "      <td>6</td>\n",
       "      <td>12/1/2010 8:26</td>\n",
       "      <td>3.39</td>\n",
       "      <td>17850.0</td>\n",
       "      <td>United Kingdom</td>\n",
       "    </tr>\n",
       "  </tbody>\n",
       "</table>\n",
       "</div>"
      ],
      "text/plain": [
       "  InvoiceNo StockCode                          Description  Quantity  \\\n",
       "0    536365    85123A   WHITE HANGING HEART T-LIGHT HOLDER         6   \n",
       "1    536365     71053                  WHITE METAL LANTERN         6   \n",
       "2    536365    84406B       CREAM CUPID HEARTS COAT HANGER         8   \n",
       "3    536365    84029G  KNITTED UNION FLAG HOT WATER BOTTLE         6   \n",
       "4    536365    84029E       RED WOOLLY HOTTIE WHITE HEART.         6   \n",
       "\n",
       "      InvoiceDate  UnitPrice  CustomerID         Country  \n",
       "0  12/1/2010 8:26       2.55     17850.0  United Kingdom  \n",
       "1  12/1/2010 8:26       3.39     17850.0  United Kingdom  \n",
       "2  12/1/2010 8:26       2.75     17850.0  United Kingdom  \n",
       "3  12/1/2010 8:26       3.39     17850.0  United Kingdom  \n",
       "4  12/1/2010 8:26       3.39     17850.0  United Kingdom  "
      ]
     },
     "execution_count": 9,
     "metadata": {},
     "output_type": "execute_result"
    }
   ],
   "source": [
    "df.head()"
   ]
  },
  {
   "cell_type": "markdown",
   "id": "2d8a72b6-3973-4f44-8a8e-89c8e13b3c71",
   "metadata": {},
   "source": [
    "# Access last five rows"
   ]
  },
  {
   "cell_type": "code",
   "execution_count": 11,
   "id": "306a7478-1717-47af-8d3a-2f477ec33555",
   "metadata": {},
   "outputs": [
    {
     "data": {
      "text/html": [
       "<div>\n",
       "<style scoped>\n",
       "    .dataframe tbody tr th:only-of-type {\n",
       "        vertical-align: middle;\n",
       "    }\n",
       "\n",
       "    .dataframe tbody tr th {\n",
       "        vertical-align: top;\n",
       "    }\n",
       "\n",
       "    .dataframe thead th {\n",
       "        text-align: right;\n",
       "    }\n",
       "</style>\n",
       "<table border=\"1\" class=\"dataframe\">\n",
       "  <thead>\n",
       "    <tr style=\"text-align: right;\">\n",
       "      <th></th>\n",
       "      <th>InvoiceNo</th>\n",
       "      <th>StockCode</th>\n",
       "      <th>Description</th>\n",
       "      <th>Quantity</th>\n",
       "      <th>InvoiceDate</th>\n",
       "      <th>UnitPrice</th>\n",
       "      <th>CustomerID</th>\n",
       "      <th>Country</th>\n",
       "    </tr>\n",
       "  </thead>\n",
       "  <tbody>\n",
       "    <tr>\n",
       "      <th>541904</th>\n",
       "      <td>581587</td>\n",
       "      <td>22613</td>\n",
       "      <td>PACK OF 20 SPACEBOY NAPKINS</td>\n",
       "      <td>12</td>\n",
       "      <td>12/9/2011 12:50</td>\n",
       "      <td>0.85</td>\n",
       "      <td>12680.0</td>\n",
       "      <td>France</td>\n",
       "    </tr>\n",
       "    <tr>\n",
       "      <th>541905</th>\n",
       "      <td>581587</td>\n",
       "      <td>22899</td>\n",
       "      <td>CHILDREN'S APRON DOLLY GIRL</td>\n",
       "      <td>6</td>\n",
       "      <td>12/9/2011 12:50</td>\n",
       "      <td>2.10</td>\n",
       "      <td>12680.0</td>\n",
       "      <td>France</td>\n",
       "    </tr>\n",
       "    <tr>\n",
       "      <th>541906</th>\n",
       "      <td>581587</td>\n",
       "      <td>23254</td>\n",
       "      <td>CHILDRENS CUTLERY DOLLY GIRL</td>\n",
       "      <td>4</td>\n",
       "      <td>12/9/2011 12:50</td>\n",
       "      <td>4.15</td>\n",
       "      <td>12680.0</td>\n",
       "      <td>France</td>\n",
       "    </tr>\n",
       "    <tr>\n",
       "      <th>541907</th>\n",
       "      <td>581587</td>\n",
       "      <td>23255</td>\n",
       "      <td>CHILDRENS CUTLERY CIRCUS PARADE</td>\n",
       "      <td>4</td>\n",
       "      <td>12/9/2011 12:50</td>\n",
       "      <td>4.15</td>\n",
       "      <td>12680.0</td>\n",
       "      <td>France</td>\n",
       "    </tr>\n",
       "    <tr>\n",
       "      <th>541908</th>\n",
       "      <td>581587</td>\n",
       "      <td>22138</td>\n",
       "      <td>BAKING SET 9 PIECE RETROSPOT</td>\n",
       "      <td>3</td>\n",
       "      <td>12/9/2011 12:50</td>\n",
       "      <td>4.95</td>\n",
       "      <td>12680.0</td>\n",
       "      <td>France</td>\n",
       "    </tr>\n",
       "  </tbody>\n",
       "</table>\n",
       "</div>"
      ],
      "text/plain": [
       "       InvoiceNo StockCode                      Description  Quantity  \\\n",
       "541904    581587     22613      PACK OF 20 SPACEBOY NAPKINS        12   \n",
       "541905    581587     22899     CHILDREN'S APRON DOLLY GIRL          6   \n",
       "541906    581587     23254    CHILDRENS CUTLERY DOLLY GIRL          4   \n",
       "541907    581587     23255  CHILDRENS CUTLERY CIRCUS PARADE         4   \n",
       "541908    581587     22138    BAKING SET 9 PIECE RETROSPOT          3   \n",
       "\n",
       "            InvoiceDate  UnitPrice  CustomerID Country  \n",
       "541904  12/9/2011 12:50       0.85     12680.0  France  \n",
       "541905  12/9/2011 12:50       2.10     12680.0  France  \n",
       "541906  12/9/2011 12:50       4.15     12680.0  France  \n",
       "541907  12/9/2011 12:50       4.15     12680.0  France  \n",
       "541908  12/9/2011 12:50       4.95     12680.0  France  "
      ]
     },
     "execution_count": 11,
     "metadata": {},
     "output_type": "execute_result"
    }
   ],
   "source": [
    "df.tail()"
   ]
  },
  {
   "cell_type": "markdown",
   "id": "bc80a7ac-ba57-4aaa-8db5-09fd7954bcac",
   "metadata": {},
   "source": [
    "# Displaying total columns from Dataset"
   ]
  },
  {
   "cell_type": "code",
   "execution_count": 13,
   "id": "a2358aa8-e539-4e91-87a3-c61da22d1105",
   "metadata": {},
   "outputs": [
    {
     "data": {
      "text/plain": [
       "Index(['InvoiceNo', 'StockCode', 'Description', 'Quantity', 'InvoiceDate',\n",
       "       'UnitPrice', 'CustomerID', 'Country'],\n",
       "      dtype='object')"
      ]
     },
     "execution_count": 13,
     "metadata": {},
     "output_type": "execute_result"
    }
   ],
   "source": [
    "df.columns"
   ]
  },
  {
   "cell_type": "code",
   "execution_count": 14,
   "id": "65b1ef51-633d-45a2-9584-76af0b6ffa64",
   "metadata": {},
   "outputs": [
    {
     "data": {
      "text/plain": [
       "['InvoiceNo',\n",
       " 'StockCode',\n",
       " 'Description',\n",
       " 'Quantity',\n",
       " 'InvoiceDate',\n",
       " 'UnitPrice',\n",
       " 'CustomerID',\n",
       " 'Country']"
      ]
     },
     "execution_count": 14,
     "metadata": {},
     "output_type": "execute_result"
    }
   ],
   "source": [
    "df.columns.to_list()"
   ]
  },
  {
   "cell_type": "markdown",
   "id": "66385705-6e58-427a-bcde-0ec35e018cc6",
   "metadata": {},
   "source": [
    "# Getting all columns one by one"
   ]
  },
  {
   "cell_type": "code",
   "execution_count": 16,
   "id": "d6eae492-ac24-433b-8c42-ca52149cb18e",
   "metadata": {},
   "outputs": [
    {
     "name": "stdout",
     "output_type": "stream",
     "text": [
      "InvoiceNo\n",
      "StockCode\n",
      "Description\n",
      "Quantity\n",
      "InvoiceDate\n",
      "UnitPrice\n",
      "CustomerID\n",
      "Country\n"
     ]
    }
   ],
   "source": [
    "for column in df.columns:\n",
    "    print(column)"
   ]
  },
  {
   "cell_type": "markdown",
   "id": "a65d2536-e21c-4de3-9596-d86981223259",
   "metadata": {},
   "source": [
    "# Renaming columns names"
   ]
  },
  {
   "cell_type": "code",
   "execution_count": 18,
   "id": "1e8f86a6-628d-4bdb-ae30-977160fa595a",
   "metadata": {},
   "outputs": [],
   "source": [
    "d = {\n",
    "    \"InvoiceNo\" : \"Invoice_No\",\n",
    "    \"StockCode\" : \"Stock_Code\",\n",
    "    \"Description\" : \"Description\",\n",
    "    \"Quantity\" : \"Quantity\",\n",
    "    \"InvoiceDate\" : \"Invoice_Date\",\n",
    "    \"UnitPrice\" : \"Unit_Price\",\n",
    "    \"CustomerID\" : \"Customer_ID\",\n",
    "    \"Country\" : \"country\"\n",
    "}"
   ]
  },
  {
   "cell_type": "code",
   "execution_count": 19,
   "id": "09391f96-56d1-4c6a-a735-e2813706c786",
   "metadata": {},
   "outputs": [],
   "source": [
    "df.rename(columns = d,inplace = True)"
   ]
  },
  {
   "cell_type": "markdown",
   "id": "a24d5135-2b57-4a56-8d5f-3c1449c80469",
   "metadata": {},
   "source": [
    "# After changing column names Checking new column names"
   ]
  },
  {
   "cell_type": "code",
   "execution_count": 21,
   "id": "7507efb5-7a0e-4afd-a7eb-6e411bbf7be5",
   "metadata": {},
   "outputs": [
    {
     "data": {
      "text/html": [
       "<div>\n",
       "<style scoped>\n",
       "    .dataframe tbody tr th:only-of-type {\n",
       "        vertical-align: middle;\n",
       "    }\n",
       "\n",
       "    .dataframe tbody tr th {\n",
       "        vertical-align: top;\n",
       "    }\n",
       "\n",
       "    .dataframe thead th {\n",
       "        text-align: right;\n",
       "    }\n",
       "</style>\n",
       "<table border=\"1\" class=\"dataframe\">\n",
       "  <thead>\n",
       "    <tr style=\"text-align: right;\">\n",
       "      <th></th>\n",
       "      <th>Invoice_No</th>\n",
       "      <th>Stock_Code</th>\n",
       "      <th>Description</th>\n",
       "      <th>Quantity</th>\n",
       "      <th>Invoice_Date</th>\n",
       "      <th>Unit_Price</th>\n",
       "      <th>Customer_ID</th>\n",
       "      <th>country</th>\n",
       "    </tr>\n",
       "  </thead>\n",
       "  <tbody>\n",
       "    <tr>\n",
       "      <th>0</th>\n",
       "      <td>536365</td>\n",
       "      <td>85123A</td>\n",
       "      <td>WHITE HANGING HEART T-LIGHT HOLDER</td>\n",
       "      <td>6</td>\n",
       "      <td>12/1/2010 8:26</td>\n",
       "      <td>2.55</td>\n",
       "      <td>17850.0</td>\n",
       "      <td>United Kingdom</td>\n",
       "    </tr>\n",
       "    <tr>\n",
       "      <th>1</th>\n",
       "      <td>536365</td>\n",
       "      <td>71053</td>\n",
       "      <td>WHITE METAL LANTERN</td>\n",
       "      <td>6</td>\n",
       "      <td>12/1/2010 8:26</td>\n",
       "      <td>3.39</td>\n",
       "      <td>17850.0</td>\n",
       "      <td>United Kingdom</td>\n",
       "    </tr>\n",
       "    <tr>\n",
       "      <th>2</th>\n",
       "      <td>536365</td>\n",
       "      <td>84406B</td>\n",
       "      <td>CREAM CUPID HEARTS COAT HANGER</td>\n",
       "      <td>8</td>\n",
       "      <td>12/1/2010 8:26</td>\n",
       "      <td>2.75</td>\n",
       "      <td>17850.0</td>\n",
       "      <td>United Kingdom</td>\n",
       "    </tr>\n",
       "    <tr>\n",
       "      <th>3</th>\n",
       "      <td>536365</td>\n",
       "      <td>84029G</td>\n",
       "      <td>KNITTED UNION FLAG HOT WATER BOTTLE</td>\n",
       "      <td>6</td>\n",
       "      <td>12/1/2010 8:26</td>\n",
       "      <td>3.39</td>\n",
       "      <td>17850.0</td>\n",
       "      <td>United Kingdom</td>\n",
       "    </tr>\n",
       "    <tr>\n",
       "      <th>4</th>\n",
       "      <td>536365</td>\n",
       "      <td>84029E</td>\n",
       "      <td>RED WOOLLY HOTTIE WHITE HEART.</td>\n",
       "      <td>6</td>\n",
       "      <td>12/1/2010 8:26</td>\n",
       "      <td>3.39</td>\n",
       "      <td>17850.0</td>\n",
       "      <td>United Kingdom</td>\n",
       "    </tr>\n",
       "  </tbody>\n",
       "</table>\n",
       "</div>"
      ],
      "text/plain": [
       "  Invoice_No Stock_Code                          Description  Quantity  \\\n",
       "0     536365     85123A   WHITE HANGING HEART T-LIGHT HOLDER         6   \n",
       "1     536365      71053                  WHITE METAL LANTERN         6   \n",
       "2     536365     84406B       CREAM CUPID HEARTS COAT HANGER         8   \n",
       "3     536365     84029G  KNITTED UNION FLAG HOT WATER BOTTLE         6   \n",
       "4     536365     84029E       RED WOOLLY HOTTIE WHITE HEART.         6   \n",
       "\n",
       "     Invoice_Date  Unit_Price  Customer_ID         country  \n",
       "0  12/1/2010 8:26        2.55      17850.0  United Kingdom  \n",
       "1  12/1/2010 8:26        3.39      17850.0  United Kingdom  \n",
       "2  12/1/2010 8:26        2.75      17850.0  United Kingdom  \n",
       "3  12/1/2010 8:26        3.39      17850.0  United Kingdom  \n",
       "4  12/1/2010 8:26        3.39      17850.0  United Kingdom  "
      ]
     },
     "execution_count": 21,
     "metadata": {},
     "output_type": "execute_result"
    }
   ],
   "source": [
    "df.head()"
   ]
  },
  {
   "cell_type": "code",
   "execution_count": 22,
   "id": "8ef6070a-c660-4d8b-a46d-1afc11353211",
   "metadata": {},
   "outputs": [
    {
     "name": "stdout",
     "output_type": "stream",
     "text": [
      "Invoice_No\n",
      "Stock_Code\n",
      "Description\n",
      "Quantity\n",
      "Invoice_Date\n",
      "Unit_Price\n",
      "Customer_ID\n",
      "country\n"
     ]
    }
   ],
   "source": [
    "for i in df.columns:\n",
    "    print(i)"
   ]
  },
  {
   "cell_type": "markdown",
   "id": "7eb10058-ebdb-435b-a2c2-ff151961de24",
   "metadata": {},
   "source": [
    "# # Data Cleaning"
   ]
  },
  {
   "cell_type": "markdown",
   "id": "92db485e-1589-44fd-a2b7-e46494243ded",
   "metadata": {},
   "source": [
    "# Checking column types"
   ]
  },
  {
   "cell_type": "code",
   "execution_count": 25,
   "id": "a9c72f58-6332-44dd-96a0-2d28453b50bf",
   "metadata": {},
   "outputs": [
    {
     "data": {
      "text/plain": [
       "Invoice_No       object\n",
       "Stock_Code       object\n",
       "Description      object\n",
       "Quantity          int64\n",
       "Invoice_Date     object\n",
       "Unit_Price      float64\n",
       "Customer_ID     float64\n",
       "country          object\n",
       "dtype: object"
      ]
     },
     "execution_count": 25,
     "metadata": {},
     "output_type": "execute_result"
    }
   ],
   "source": [
    "df.dtypes"
   ]
  },
  {
   "cell_type": "markdown",
   "id": "8516d7c0-978c-444e-9090-ce7c28306058",
   "metadata": {},
   "source": [
    "# DataFrame information"
   ]
  },
  {
   "cell_type": "code",
   "execution_count": 27,
   "id": "9bea671b-61da-4368-97fb-b07d4a10b164",
   "metadata": {},
   "outputs": [
    {
     "name": "stdout",
     "output_type": "stream",
     "text": [
      "<class 'pandas.core.frame.DataFrame'>\n",
      "RangeIndex: 541909 entries, 0 to 541908\n",
      "Data columns (total 8 columns):\n",
      " #   Column        Non-Null Count   Dtype  \n",
      "---  ------        --------------   -----  \n",
      " 0   Invoice_No    541909 non-null  object \n",
      " 1   Stock_Code    541909 non-null  object \n",
      " 2   Description   540455 non-null  object \n",
      " 3   Quantity      541909 non-null  int64  \n",
      " 4   Invoice_Date  541909 non-null  object \n",
      " 5   Unit_Price    541909 non-null  float64\n",
      " 6   Customer_ID   406829 non-null  float64\n",
      " 7   country       541909 non-null  object \n",
      "dtypes: float64(2), int64(1), object(5)\n",
      "memory usage: 33.1+ MB\n"
     ]
    }
   ],
   "source": [
    "df.info()"
   ]
  },
  {
   "cell_type": "markdown",
   "id": "1ee074f1-466b-4fea-9da9-5428233f6e35",
   "metadata": {},
   "source": [
    "# Checking missing values for each column"
   ]
  },
  {
   "cell_type": "code",
   "execution_count": 29,
   "id": "b608962f-f76e-4323-872f-f75810dd169d",
   "metadata": {},
   "outputs": [
    {
     "data": {
      "text/html": [
       "<div>\n",
       "<style scoped>\n",
       "    .dataframe tbody tr th:only-of-type {\n",
       "        vertical-align: middle;\n",
       "    }\n",
       "\n",
       "    .dataframe tbody tr th {\n",
       "        vertical-align: top;\n",
       "    }\n",
       "\n",
       "    .dataframe thead th {\n",
       "        text-align: right;\n",
       "    }\n",
       "</style>\n",
       "<table border=\"1\" class=\"dataframe\">\n",
       "  <thead>\n",
       "    <tr style=\"text-align: right;\">\n",
       "      <th></th>\n",
       "      <th>Invoice_No</th>\n",
       "      <th>Stock_Code</th>\n",
       "      <th>Description</th>\n",
       "      <th>Quantity</th>\n",
       "      <th>Invoice_Date</th>\n",
       "      <th>Unit_Price</th>\n",
       "      <th>Customer_ID</th>\n",
       "      <th>country</th>\n",
       "    </tr>\n",
       "  </thead>\n",
       "  <tbody>\n",
       "    <tr>\n",
       "      <th>0</th>\n",
       "      <td>False</td>\n",
       "      <td>False</td>\n",
       "      <td>False</td>\n",
       "      <td>False</td>\n",
       "      <td>False</td>\n",
       "      <td>False</td>\n",
       "      <td>False</td>\n",
       "      <td>False</td>\n",
       "    </tr>\n",
       "    <tr>\n",
       "      <th>1</th>\n",
       "      <td>False</td>\n",
       "      <td>False</td>\n",
       "      <td>False</td>\n",
       "      <td>False</td>\n",
       "      <td>False</td>\n",
       "      <td>False</td>\n",
       "      <td>False</td>\n",
       "      <td>False</td>\n",
       "    </tr>\n",
       "    <tr>\n",
       "      <th>2</th>\n",
       "      <td>False</td>\n",
       "      <td>False</td>\n",
       "      <td>False</td>\n",
       "      <td>False</td>\n",
       "      <td>False</td>\n",
       "      <td>False</td>\n",
       "      <td>False</td>\n",
       "      <td>False</td>\n",
       "    </tr>\n",
       "    <tr>\n",
       "      <th>3</th>\n",
       "      <td>False</td>\n",
       "      <td>False</td>\n",
       "      <td>False</td>\n",
       "      <td>False</td>\n",
       "      <td>False</td>\n",
       "      <td>False</td>\n",
       "      <td>False</td>\n",
       "      <td>False</td>\n",
       "    </tr>\n",
       "    <tr>\n",
       "      <th>4</th>\n",
       "      <td>False</td>\n",
       "      <td>False</td>\n",
       "      <td>False</td>\n",
       "      <td>False</td>\n",
       "      <td>False</td>\n",
       "      <td>False</td>\n",
       "      <td>False</td>\n",
       "      <td>False</td>\n",
       "    </tr>\n",
       "    <tr>\n",
       "      <th>...</th>\n",
       "      <td>...</td>\n",
       "      <td>...</td>\n",
       "      <td>...</td>\n",
       "      <td>...</td>\n",
       "      <td>...</td>\n",
       "      <td>...</td>\n",
       "      <td>...</td>\n",
       "      <td>...</td>\n",
       "    </tr>\n",
       "    <tr>\n",
       "      <th>541904</th>\n",
       "      <td>False</td>\n",
       "      <td>False</td>\n",
       "      <td>False</td>\n",
       "      <td>False</td>\n",
       "      <td>False</td>\n",
       "      <td>False</td>\n",
       "      <td>False</td>\n",
       "      <td>False</td>\n",
       "    </tr>\n",
       "    <tr>\n",
       "      <th>541905</th>\n",
       "      <td>False</td>\n",
       "      <td>False</td>\n",
       "      <td>False</td>\n",
       "      <td>False</td>\n",
       "      <td>False</td>\n",
       "      <td>False</td>\n",
       "      <td>False</td>\n",
       "      <td>False</td>\n",
       "    </tr>\n",
       "    <tr>\n",
       "      <th>541906</th>\n",
       "      <td>False</td>\n",
       "      <td>False</td>\n",
       "      <td>False</td>\n",
       "      <td>False</td>\n",
       "      <td>False</td>\n",
       "      <td>False</td>\n",
       "      <td>False</td>\n",
       "      <td>False</td>\n",
       "    </tr>\n",
       "    <tr>\n",
       "      <th>541907</th>\n",
       "      <td>False</td>\n",
       "      <td>False</td>\n",
       "      <td>False</td>\n",
       "      <td>False</td>\n",
       "      <td>False</td>\n",
       "      <td>False</td>\n",
       "      <td>False</td>\n",
       "      <td>False</td>\n",
       "    </tr>\n",
       "    <tr>\n",
       "      <th>541908</th>\n",
       "      <td>False</td>\n",
       "      <td>False</td>\n",
       "      <td>False</td>\n",
       "      <td>False</td>\n",
       "      <td>False</td>\n",
       "      <td>False</td>\n",
       "      <td>False</td>\n",
       "      <td>False</td>\n",
       "    </tr>\n",
       "  </tbody>\n",
       "</table>\n",
       "<p>541909 rows × 8 columns</p>\n",
       "</div>"
      ],
      "text/plain": [
       "        Invoice_No  Stock_Code  Description  Quantity  Invoice_Date  \\\n",
       "0            False       False        False     False         False   \n",
       "1            False       False        False     False         False   \n",
       "2            False       False        False     False         False   \n",
       "3            False       False        False     False         False   \n",
       "4            False       False        False     False         False   \n",
       "...            ...         ...          ...       ...           ...   \n",
       "541904       False       False        False     False         False   \n",
       "541905       False       False        False     False         False   \n",
       "541906       False       False        False     False         False   \n",
       "541907       False       False        False     False         False   \n",
       "541908       False       False        False     False         False   \n",
       "\n",
       "        Unit_Price  Customer_ID  country  \n",
       "0            False        False    False  \n",
       "1            False        False    False  \n",
       "2            False        False    False  \n",
       "3            False        False    False  \n",
       "4            False        False    False  \n",
       "...            ...          ...      ...  \n",
       "541904       False        False    False  \n",
       "541905       False        False    False  \n",
       "541906       False        False    False  \n",
       "541907       False        False    False  \n",
       "541908       False        False    False  \n",
       "\n",
       "[541909 rows x 8 columns]"
      ]
     },
     "execution_count": 29,
     "metadata": {},
     "output_type": "execute_result"
    }
   ],
   "source": [
    "df.isnull()"
   ]
  },
  {
   "cell_type": "code",
   "execution_count": 30,
   "id": "9585d2b4-1ed6-4054-863c-b7ec98152d0a",
   "metadata": {},
   "outputs": [
    {
     "data": {
      "text/plain": [
       "Invoice_No           0\n",
       "Stock_Code           0\n",
       "Description       1454\n",
       "Quantity             0\n",
       "Invoice_Date         0\n",
       "Unit_Price           0\n",
       "Customer_ID     135080\n",
       "country              0\n",
       "dtype: int64"
      ]
     },
     "execution_count": 30,
     "metadata": {},
     "output_type": "execute_result"
    }
   ],
   "source": [
    "df.isnull().sum()"
   ]
  },
  {
   "cell_type": "code",
   "execution_count": 31,
   "id": "5ed31694-0c2f-45ab-9266-5f29e6631b18",
   "metadata": {},
   "outputs": [
    {
     "data": {
      "text/plain": [
       "Customer_ID     135080\n",
       "Description       1454\n",
       "Invoice_No           0\n",
       "Stock_Code           0\n",
       "Quantity             0\n",
       "Invoice_Date         0\n",
       "Unit_Price           0\n",
       "country              0\n",
       "dtype: int64"
      ]
     },
     "execution_count": 31,
     "metadata": {},
     "output_type": "execute_result"
    }
   ],
   "source": [
    "df.isnull().sum().sort_values(ascending = False)"
   ]
  },
  {
   "cell_type": "markdown",
   "id": "d5e81a13-12f6-482e-9cac-f5fd43096b64",
   "metadata": {},
   "source": [
    "# Checking type of invoice_date column"
   ]
  },
  {
   "cell_type": "code",
   "execution_count": 33,
   "id": "4106fed9-e48e-467a-b3ab-00fb090f320b",
   "metadata": {},
   "outputs": [
    {
     "data": {
      "text/plain": [
       "Invoice_No       object\n",
       "Stock_Code       object\n",
       "Description      object\n",
       "Quantity          int64\n",
       "Invoice_Date     object\n",
       "Unit_Price      float64\n",
       "Customer_ID     float64\n",
       "country          object\n",
       "dtype: object"
      ]
     },
     "execution_count": 33,
     "metadata": {},
     "output_type": "execute_result"
    }
   ],
   "source": [
    "df.dtypes"
   ]
  },
  {
   "cell_type": "markdown",
   "id": "fc35def2-89f3-4b4c-9731-b6329655bd5d",
   "metadata": {},
   "source": [
    "# Converting invoice_date data type into datatime data type"
   ]
  },
  {
   "cell_type": "code",
   "execution_count": 35,
   "id": "8c45d6bb-ea0d-465c-80e9-ec1c7534bf16",
   "metadata": {},
   "outputs": [],
   "source": [
    "df[\"Invoice_Date\"] = pd.to_datetime(df[\"Invoice_Date\"],format = \"%m/%d/%Y %H:%M\")"
   ]
  },
  {
   "cell_type": "markdown",
   "id": "6481d200-5f6f-4e67-b029-228c81263b82",
   "metadata": {},
   "source": [
    "# Checking type of invoice_date"
   ]
  },
  {
   "cell_type": "code",
   "execution_count": 37,
   "id": "48998c10-f8cf-456b-a364-4b47dd76b976",
   "metadata": {},
   "outputs": [
    {
     "data": {
      "text/html": [
       "<div>\n",
       "<style scoped>\n",
       "    .dataframe tbody tr th:only-of-type {\n",
       "        vertical-align: middle;\n",
       "    }\n",
       "\n",
       "    .dataframe tbody tr th {\n",
       "        vertical-align: top;\n",
       "    }\n",
       "\n",
       "    .dataframe thead th {\n",
       "        text-align: right;\n",
       "    }\n",
       "</style>\n",
       "<table border=\"1\" class=\"dataframe\">\n",
       "  <thead>\n",
       "    <tr style=\"text-align: right;\">\n",
       "      <th></th>\n",
       "      <th>Invoice_No</th>\n",
       "      <th>Stock_Code</th>\n",
       "      <th>Description</th>\n",
       "      <th>Quantity</th>\n",
       "      <th>Invoice_Date</th>\n",
       "      <th>Unit_Price</th>\n",
       "      <th>Customer_ID</th>\n",
       "      <th>country</th>\n",
       "    </tr>\n",
       "  </thead>\n",
       "  <tbody>\n",
       "    <tr>\n",
       "      <th>0</th>\n",
       "      <td>536365</td>\n",
       "      <td>85123A</td>\n",
       "      <td>WHITE HANGING HEART T-LIGHT HOLDER</td>\n",
       "      <td>6</td>\n",
       "      <td>2010-12-01 08:26:00</td>\n",
       "      <td>2.55</td>\n",
       "      <td>17850.0</td>\n",
       "      <td>United Kingdom</td>\n",
       "    </tr>\n",
       "    <tr>\n",
       "      <th>1</th>\n",
       "      <td>536365</td>\n",
       "      <td>71053</td>\n",
       "      <td>WHITE METAL LANTERN</td>\n",
       "      <td>6</td>\n",
       "      <td>2010-12-01 08:26:00</td>\n",
       "      <td>3.39</td>\n",
       "      <td>17850.0</td>\n",
       "      <td>United Kingdom</td>\n",
       "    </tr>\n",
       "    <tr>\n",
       "      <th>2</th>\n",
       "      <td>536365</td>\n",
       "      <td>84406B</td>\n",
       "      <td>CREAM CUPID HEARTS COAT HANGER</td>\n",
       "      <td>8</td>\n",
       "      <td>2010-12-01 08:26:00</td>\n",
       "      <td>2.75</td>\n",
       "      <td>17850.0</td>\n",
       "      <td>United Kingdom</td>\n",
       "    </tr>\n",
       "    <tr>\n",
       "      <th>3</th>\n",
       "      <td>536365</td>\n",
       "      <td>84029G</td>\n",
       "      <td>KNITTED UNION FLAG HOT WATER BOTTLE</td>\n",
       "      <td>6</td>\n",
       "      <td>2010-12-01 08:26:00</td>\n",
       "      <td>3.39</td>\n",
       "      <td>17850.0</td>\n",
       "      <td>United Kingdom</td>\n",
       "    </tr>\n",
       "    <tr>\n",
       "      <th>4</th>\n",
       "      <td>536365</td>\n",
       "      <td>84029E</td>\n",
       "      <td>RED WOOLLY HOTTIE WHITE HEART.</td>\n",
       "      <td>6</td>\n",
       "      <td>2010-12-01 08:26:00</td>\n",
       "      <td>3.39</td>\n",
       "      <td>17850.0</td>\n",
       "      <td>United Kingdom</td>\n",
       "    </tr>\n",
       "  </tbody>\n",
       "</table>\n",
       "</div>"
      ],
      "text/plain": [
       "  Invoice_No Stock_Code                          Description  Quantity  \\\n",
       "0     536365     85123A   WHITE HANGING HEART T-LIGHT HOLDER         6   \n",
       "1     536365      71053                  WHITE METAL LANTERN         6   \n",
       "2     536365     84406B       CREAM CUPID HEARTS COAT HANGER         8   \n",
       "3     536365     84029G  KNITTED UNION FLAG HOT WATER BOTTLE         6   \n",
       "4     536365     84029E       RED WOOLLY HOTTIE WHITE HEART.         6   \n",
       "\n",
       "         Invoice_Date  Unit_Price  Customer_ID         country  \n",
       "0 2010-12-01 08:26:00        2.55      17850.0  United Kingdom  \n",
       "1 2010-12-01 08:26:00        3.39      17850.0  United Kingdom  \n",
       "2 2010-12-01 08:26:00        2.75      17850.0  United Kingdom  \n",
       "3 2010-12-01 08:26:00        3.39      17850.0  United Kingdom  \n",
       "4 2010-12-01 08:26:00        3.39      17850.0  United Kingdom  "
      ]
     },
     "execution_count": 37,
     "metadata": {},
     "output_type": "execute_result"
    }
   ],
   "source": [
    "df.head()"
   ]
  },
  {
   "cell_type": "code",
   "execution_count": 38,
   "id": "d0a645ba-e51f-4920-b4c1-b64aebb35834",
   "metadata": {},
   "outputs": [
    {
     "data": {
      "text/plain": [
       "Invoice_No              object\n",
       "Stock_Code              object\n",
       "Description             object\n",
       "Quantity                 int64\n",
       "Invoice_Date    datetime64[ns]\n",
       "Unit_Price             float64\n",
       "Customer_ID            float64\n",
       "country                 object\n",
       "dtype: object"
      ]
     },
     "execution_count": 38,
     "metadata": {},
     "output_type": "execute_result"
    }
   ],
   "source": [
    "df.dtypes"
   ]
  },
  {
   "cell_type": "markdown",
   "id": "6aa7068f-1a86-4524-b500-0bb77ba0b63b",
   "metadata": {},
   "source": [
    "# Checking description column"
   ]
  },
  {
   "cell_type": "code",
   "execution_count": 40,
   "id": "bf66ff47-2c8e-432f-999f-ed145e97ef8c",
   "metadata": {},
   "outputs": [
    {
     "data": {
      "text/plain": [
       "0          WHITE HANGING HEART T-LIGHT HOLDER\n",
       "1                         WHITE METAL LANTERN\n",
       "2              CREAM CUPID HEARTS COAT HANGER\n",
       "3         KNITTED UNION FLAG HOT WATER BOTTLE\n",
       "4              RED WOOLLY HOTTIE WHITE HEART.\n",
       "                         ...                 \n",
       "541904            PACK OF 20 SPACEBOY NAPKINS\n",
       "541905           CHILDREN'S APRON DOLLY GIRL \n",
       "541906          CHILDRENS CUTLERY DOLLY GIRL \n",
       "541907        CHILDRENS CUTLERY CIRCUS PARADE\n",
       "541908          BAKING SET 9 PIECE RETROSPOT \n",
       "Name: Description, Length: 541909, dtype: object"
      ]
     },
     "execution_count": 40,
     "metadata": {},
     "output_type": "execute_result"
    }
   ],
   "source": [
    "df.Description"
   ]
  },
  {
   "cell_type": "markdown",
   "id": "697a75fe-a0d5-45bd-ab64-7400b1c79355",
   "metadata": {},
   "source": [
    "# Converting In lower case by using String lower() method"
   ]
  },
  {
   "cell_type": "code",
   "execution_count": 42,
   "id": "234f4f25-710f-476f-a0ef-8e88659a4401",
   "metadata": {},
   "outputs": [
    {
     "data": {
      "text/plain": [
       "0          white hanging heart t-light holder\n",
       "1                         white metal lantern\n",
       "2              cream cupid hearts coat hanger\n",
       "3         knitted union flag hot water bottle\n",
       "4              red woolly hottie white heart.\n",
       "                         ...                 \n",
       "541904            pack of 20 spaceboy napkins\n",
       "541905           children's apron dolly girl \n",
       "541906          childrens cutlery dolly girl \n",
       "541907        childrens cutlery circus parade\n",
       "541908          baking set 9 piece retrospot \n",
       "Name: Description, Length: 541909, dtype: object"
      ]
     },
     "execution_count": 42,
     "metadata": {},
     "output_type": "execute_result"
    }
   ],
   "source": [
    "df.Description.str.lower()"
   ]
  },
  {
   "cell_type": "code",
   "execution_count": 43,
   "id": "f03d29fc-5ff3-47f9-a5cd-90d3fe77c290",
   "metadata": {},
   "outputs": [
    {
     "data": {
      "text/html": [
       "<div>\n",
       "<style scoped>\n",
       "    .dataframe tbody tr th:only-of-type {\n",
       "        vertical-align: middle;\n",
       "    }\n",
       "\n",
       "    .dataframe tbody tr th {\n",
       "        vertical-align: top;\n",
       "    }\n",
       "\n",
       "    .dataframe thead th {\n",
       "        text-align: right;\n",
       "    }\n",
       "</style>\n",
       "<table border=\"1\" class=\"dataframe\">\n",
       "  <thead>\n",
       "    <tr style=\"text-align: right;\">\n",
       "      <th></th>\n",
       "      <th>Invoice_No</th>\n",
       "      <th>Stock_Code</th>\n",
       "      <th>Description</th>\n",
       "      <th>Quantity</th>\n",
       "      <th>Invoice_Date</th>\n",
       "      <th>Unit_Price</th>\n",
       "      <th>Customer_ID</th>\n",
       "      <th>country</th>\n",
       "    </tr>\n",
       "  </thead>\n",
       "  <tbody>\n",
       "    <tr>\n",
       "      <th>0</th>\n",
       "      <td>536365</td>\n",
       "      <td>85123A</td>\n",
       "      <td>WHITE HANGING HEART T-LIGHT HOLDER</td>\n",
       "      <td>6</td>\n",
       "      <td>2010-12-01 08:26:00</td>\n",
       "      <td>2.55</td>\n",
       "      <td>17850.0</td>\n",
       "      <td>United Kingdom</td>\n",
       "    </tr>\n",
       "    <tr>\n",
       "      <th>1</th>\n",
       "      <td>536365</td>\n",
       "      <td>71053</td>\n",
       "      <td>WHITE METAL LANTERN</td>\n",
       "      <td>6</td>\n",
       "      <td>2010-12-01 08:26:00</td>\n",
       "      <td>3.39</td>\n",
       "      <td>17850.0</td>\n",
       "      <td>United Kingdom</td>\n",
       "    </tr>\n",
       "    <tr>\n",
       "      <th>2</th>\n",
       "      <td>536365</td>\n",
       "      <td>84406B</td>\n",
       "      <td>CREAM CUPID HEARTS COAT HANGER</td>\n",
       "      <td>8</td>\n",
       "      <td>2010-12-01 08:26:00</td>\n",
       "      <td>2.75</td>\n",
       "      <td>17850.0</td>\n",
       "      <td>United Kingdom</td>\n",
       "    </tr>\n",
       "    <tr>\n",
       "      <th>3</th>\n",
       "      <td>536365</td>\n",
       "      <td>84029G</td>\n",
       "      <td>KNITTED UNION FLAG HOT WATER BOTTLE</td>\n",
       "      <td>6</td>\n",
       "      <td>2010-12-01 08:26:00</td>\n",
       "      <td>3.39</td>\n",
       "      <td>17850.0</td>\n",
       "      <td>United Kingdom</td>\n",
       "    </tr>\n",
       "    <tr>\n",
       "      <th>4</th>\n",
       "      <td>536365</td>\n",
       "      <td>84029E</td>\n",
       "      <td>RED WOOLLY HOTTIE WHITE HEART.</td>\n",
       "      <td>6</td>\n",
       "      <td>2010-12-01 08:26:00</td>\n",
       "      <td>3.39</td>\n",
       "      <td>17850.0</td>\n",
       "      <td>United Kingdom</td>\n",
       "    </tr>\n",
       "  </tbody>\n",
       "</table>\n",
       "</div>"
      ],
      "text/plain": [
       "  Invoice_No Stock_Code                          Description  Quantity  \\\n",
       "0     536365     85123A   WHITE HANGING HEART T-LIGHT HOLDER         6   \n",
       "1     536365      71053                  WHITE METAL LANTERN         6   \n",
       "2     536365     84406B       CREAM CUPID HEARTS COAT HANGER         8   \n",
       "3     536365     84029G  KNITTED UNION FLAG HOT WATER BOTTLE         6   \n",
       "4     536365     84029E       RED WOOLLY HOTTIE WHITE HEART.         6   \n",
       "\n",
       "         Invoice_Date  Unit_Price  Customer_ID         country  \n",
       "0 2010-12-01 08:26:00        2.55      17850.0  United Kingdom  \n",
       "1 2010-12-01 08:26:00        3.39      17850.0  United Kingdom  \n",
       "2 2010-12-01 08:26:00        2.75      17850.0  United Kingdom  \n",
       "3 2010-12-01 08:26:00        3.39      17850.0  United Kingdom  \n",
       "4 2010-12-01 08:26:00        3.39      17850.0  United Kingdom  "
      ]
     },
     "execution_count": 43,
     "metadata": {},
     "output_type": "execute_result"
    }
   ],
   "source": [
    "df.head()"
   ]
  },
  {
   "cell_type": "code",
   "execution_count": 44,
   "id": "4a47a274-f4ad-4015-9947-f907ef13233b",
   "metadata": {},
   "outputs": [],
   "source": [
    "df[\"Description\"] = df[\"Description\"].str.lower()"
   ]
  },
  {
   "cell_type": "code",
   "execution_count": 45,
   "id": "be2d846a-69d3-45b4-9a7d-81748825f50e",
   "metadata": {},
   "outputs": [
    {
     "data": {
      "text/html": [
       "<div>\n",
       "<style scoped>\n",
       "    .dataframe tbody tr th:only-of-type {\n",
       "        vertical-align: middle;\n",
       "    }\n",
       "\n",
       "    .dataframe tbody tr th {\n",
       "        vertical-align: top;\n",
       "    }\n",
       "\n",
       "    .dataframe thead th {\n",
       "        text-align: right;\n",
       "    }\n",
       "</style>\n",
       "<table border=\"1\" class=\"dataframe\">\n",
       "  <thead>\n",
       "    <tr style=\"text-align: right;\">\n",
       "      <th></th>\n",
       "      <th>Invoice_No</th>\n",
       "      <th>Stock_Code</th>\n",
       "      <th>Description</th>\n",
       "      <th>Quantity</th>\n",
       "      <th>Invoice_Date</th>\n",
       "      <th>Unit_Price</th>\n",
       "      <th>Customer_ID</th>\n",
       "      <th>country</th>\n",
       "    </tr>\n",
       "  </thead>\n",
       "  <tbody>\n",
       "    <tr>\n",
       "      <th>0</th>\n",
       "      <td>536365</td>\n",
       "      <td>85123A</td>\n",
       "      <td>white hanging heart t-light holder</td>\n",
       "      <td>6</td>\n",
       "      <td>2010-12-01 08:26:00</td>\n",
       "      <td>2.55</td>\n",
       "      <td>17850.0</td>\n",
       "      <td>United Kingdom</td>\n",
       "    </tr>\n",
       "    <tr>\n",
       "      <th>1</th>\n",
       "      <td>536365</td>\n",
       "      <td>71053</td>\n",
       "      <td>white metal lantern</td>\n",
       "      <td>6</td>\n",
       "      <td>2010-12-01 08:26:00</td>\n",
       "      <td>3.39</td>\n",
       "      <td>17850.0</td>\n",
       "      <td>United Kingdom</td>\n",
       "    </tr>\n",
       "    <tr>\n",
       "      <th>2</th>\n",
       "      <td>536365</td>\n",
       "      <td>84406B</td>\n",
       "      <td>cream cupid hearts coat hanger</td>\n",
       "      <td>8</td>\n",
       "      <td>2010-12-01 08:26:00</td>\n",
       "      <td>2.75</td>\n",
       "      <td>17850.0</td>\n",
       "      <td>United Kingdom</td>\n",
       "    </tr>\n",
       "    <tr>\n",
       "      <th>3</th>\n",
       "      <td>536365</td>\n",
       "      <td>84029G</td>\n",
       "      <td>knitted union flag hot water bottle</td>\n",
       "      <td>6</td>\n",
       "      <td>2010-12-01 08:26:00</td>\n",
       "      <td>3.39</td>\n",
       "      <td>17850.0</td>\n",
       "      <td>United Kingdom</td>\n",
       "    </tr>\n",
       "    <tr>\n",
       "      <th>4</th>\n",
       "      <td>536365</td>\n",
       "      <td>84029E</td>\n",
       "      <td>red woolly hottie white heart.</td>\n",
       "      <td>6</td>\n",
       "      <td>2010-12-01 08:26:00</td>\n",
       "      <td>3.39</td>\n",
       "      <td>17850.0</td>\n",
       "      <td>United Kingdom</td>\n",
       "    </tr>\n",
       "  </tbody>\n",
       "</table>\n",
       "</div>"
      ],
      "text/plain": [
       "  Invoice_No Stock_Code                          Description  Quantity  \\\n",
       "0     536365     85123A   white hanging heart t-light holder         6   \n",
       "1     536365      71053                  white metal lantern         6   \n",
       "2     536365     84406B       cream cupid hearts coat hanger         8   \n",
       "3     536365     84029G  knitted union flag hot water bottle         6   \n",
       "4     536365     84029E       red woolly hottie white heart.         6   \n",
       "\n",
       "         Invoice_Date  Unit_Price  Customer_ID         country  \n",
       "0 2010-12-01 08:26:00        2.55      17850.0  United Kingdom  \n",
       "1 2010-12-01 08:26:00        3.39      17850.0  United Kingdom  \n",
       "2 2010-12-01 08:26:00        2.75      17850.0  United Kingdom  \n",
       "3 2010-12-01 08:26:00        3.39      17850.0  United Kingdom  \n",
       "4 2010-12-01 08:26:00        3.39      17850.0  United Kingdom  "
      ]
     },
     "execution_count": 45,
     "metadata": {},
     "output_type": "execute_result"
    }
   ],
   "source": [
    "df.head()"
   ]
  },
  {
   "cell_type": "markdown",
   "id": "8226178f-78c4-4ae0-8aca-471e6470a4bd",
   "metadata": {},
   "source": [
    "# # Handling Missing Values"
   ]
  },
  {
   "cell_type": "code",
   "execution_count": 47,
   "id": "ed8e3c07-0fba-4ee1-8373-6001dc24e45c",
   "metadata": {},
   "outputs": [
    {
     "data": {
      "text/plain": [
       "Customer_ID     135080\n",
       "Description       1454\n",
       "Invoice_No           0\n",
       "Stock_Code           0\n",
       "Quantity             0\n",
       "Invoice_Date         0\n",
       "Unit_Price           0\n",
       "country              0\n",
       "dtype: int64"
      ]
     },
     "execution_count": 47,
     "metadata": {},
     "output_type": "execute_result"
    }
   ],
   "source": [
    "df.isnull().sum().sort_values(ascending = False)"
   ]
  },
  {
   "cell_type": "code",
   "execution_count": 48,
   "id": "4fcb56ac-e35c-45a2-98e3-6f2e3e401fa2",
   "metadata": {},
   "outputs": [],
   "source": [
    "df_new = df.dropna()"
   ]
  },
  {
   "cell_type": "code",
   "execution_count": 49,
   "id": "192544a1-9215-4b4b-9da3-e4026555d6b3",
   "metadata": {},
   "outputs": [
    {
     "data": {
      "text/plain": [
       "Invoice_No      0\n",
       "Stock_Code      0\n",
       "Description     0\n",
       "Quantity        0\n",
       "Invoice_Date    0\n",
       "Unit_Price      0\n",
       "Customer_ID     0\n",
       "country         0\n",
       "dtype: int64"
      ]
     },
     "execution_count": 49,
     "metadata": {},
     "output_type": "execute_result"
    }
   ],
   "source": [
    "df_new.isnull().sum()"
   ]
  },
  {
   "cell_type": "code",
   "execution_count": 50,
   "id": "c5b13b3d-0783-4195-aba9-c403005afd88",
   "metadata": {},
   "outputs": [
    {
     "data": {
      "text/html": [
       "<div>\n",
       "<style scoped>\n",
       "    .dataframe tbody tr th:only-of-type {\n",
       "        vertical-align: middle;\n",
       "    }\n",
       "\n",
       "    .dataframe tbody tr th {\n",
       "        vertical-align: top;\n",
       "    }\n",
       "\n",
       "    .dataframe thead th {\n",
       "        text-align: right;\n",
       "    }\n",
       "</style>\n",
       "<table border=\"1\" class=\"dataframe\">\n",
       "  <thead>\n",
       "    <tr style=\"text-align: right;\">\n",
       "      <th></th>\n",
       "      <th>Invoice_No</th>\n",
       "      <th>Stock_Code</th>\n",
       "      <th>Description</th>\n",
       "      <th>Quantity</th>\n",
       "      <th>Invoice_Date</th>\n",
       "      <th>Unit_Price</th>\n",
       "      <th>Customer_ID</th>\n",
       "      <th>country</th>\n",
       "    </tr>\n",
       "  </thead>\n",
       "  <tbody>\n",
       "    <tr>\n",
       "      <th>0</th>\n",
       "      <td>536365</td>\n",
       "      <td>85123A</td>\n",
       "      <td>white hanging heart t-light holder</td>\n",
       "      <td>6</td>\n",
       "      <td>2010-12-01 08:26:00</td>\n",
       "      <td>2.55</td>\n",
       "      <td>17850.0</td>\n",
       "      <td>United Kingdom</td>\n",
       "    </tr>\n",
       "    <tr>\n",
       "      <th>1</th>\n",
       "      <td>536365</td>\n",
       "      <td>71053</td>\n",
       "      <td>white metal lantern</td>\n",
       "      <td>6</td>\n",
       "      <td>2010-12-01 08:26:00</td>\n",
       "      <td>3.39</td>\n",
       "      <td>17850.0</td>\n",
       "      <td>United Kingdom</td>\n",
       "    </tr>\n",
       "    <tr>\n",
       "      <th>2</th>\n",
       "      <td>536365</td>\n",
       "      <td>84406B</td>\n",
       "      <td>cream cupid hearts coat hanger</td>\n",
       "      <td>8</td>\n",
       "      <td>2010-12-01 08:26:00</td>\n",
       "      <td>2.75</td>\n",
       "      <td>17850.0</td>\n",
       "      <td>United Kingdom</td>\n",
       "    </tr>\n",
       "    <tr>\n",
       "      <th>3</th>\n",
       "      <td>536365</td>\n",
       "      <td>84029G</td>\n",
       "      <td>knitted union flag hot water bottle</td>\n",
       "      <td>6</td>\n",
       "      <td>2010-12-01 08:26:00</td>\n",
       "      <td>3.39</td>\n",
       "      <td>17850.0</td>\n",
       "      <td>United Kingdom</td>\n",
       "    </tr>\n",
       "    <tr>\n",
       "      <th>4</th>\n",
       "      <td>536365</td>\n",
       "      <td>84029E</td>\n",
       "      <td>red woolly hottie white heart.</td>\n",
       "      <td>6</td>\n",
       "      <td>2010-12-01 08:26:00</td>\n",
       "      <td>3.39</td>\n",
       "      <td>17850.0</td>\n",
       "      <td>United Kingdom</td>\n",
       "    </tr>\n",
       "  </tbody>\n",
       "</table>\n",
       "</div>"
      ],
      "text/plain": [
       "  Invoice_No Stock_Code                          Description  Quantity  \\\n",
       "0     536365     85123A   white hanging heart t-light holder         6   \n",
       "1     536365      71053                  white metal lantern         6   \n",
       "2     536365     84406B       cream cupid hearts coat hanger         8   \n",
       "3     536365     84029G  knitted union flag hot water bottle         6   \n",
       "4     536365     84029E       red woolly hottie white heart.         6   \n",
       "\n",
       "         Invoice_Date  Unit_Price  Customer_ID         country  \n",
       "0 2010-12-01 08:26:00        2.55      17850.0  United Kingdom  \n",
       "1 2010-12-01 08:26:00        3.39      17850.0  United Kingdom  \n",
       "2 2010-12-01 08:26:00        2.75      17850.0  United Kingdom  \n",
       "3 2010-12-01 08:26:00        3.39      17850.0  United Kingdom  \n",
       "4 2010-12-01 08:26:00        3.39      17850.0  United Kingdom  "
      ]
     },
     "execution_count": 50,
     "metadata": {},
     "output_type": "execute_result"
    }
   ],
   "source": [
    "df_new.head()"
   ]
  },
  {
   "cell_type": "code",
   "execution_count": 51,
   "id": "c3febdff-4dc4-49e7-a865-48eda68c3e99",
   "metadata": {},
   "outputs": [
    {
     "data": {
      "text/plain": [
       "Invoice_No              object\n",
       "Stock_Code              object\n",
       "Description             object\n",
       "Quantity                 int64\n",
       "Invoice_Date    datetime64[ns]\n",
       "Unit_Price             float64\n",
       "Customer_ID            float64\n",
       "country                 object\n",
       "dtype: object"
      ]
     },
     "execution_count": 51,
     "metadata": {},
     "output_type": "execute_result"
    }
   ],
   "source": [
    "df.dtypes"
   ]
  },
  {
   "cell_type": "markdown",
   "id": "32865547-0ed9-4be9-8ee3-7f6100a52239",
   "metadata": {},
   "source": [
    "# Ignoring warnings in jupyter"
   ]
  },
  {
   "cell_type": "code",
   "execution_count": 53,
   "id": "062f77ce-041d-45be-a55a-55107be430cf",
   "metadata": {},
   "outputs": [],
   "source": [
    "import warnings\n",
    "warnings.filterwarnings('ignore')"
   ]
  },
  {
   "cell_type": "markdown",
   "id": "a816e55b-7089-404f-bcc2-d5f9f05c1e47",
   "metadata": {},
   "source": [
    "# Converting cust_id float type into integer type"
   ]
  },
  {
   "cell_type": "code",
   "execution_count": 55,
   "id": "a48569cc-ec32-4c55-a841-9568a7711075",
   "metadata": {},
   "outputs": [
    {
     "data": {
      "text/plain": [
       "Invoice_No              object\n",
       "Stock_Code              object\n",
       "Description             object\n",
       "Quantity                 int64\n",
       "Invoice_Date    datetime64[ns]\n",
       "Unit_Price             float64\n",
       "Customer_ID            float64\n",
       "country                 object\n",
       "dtype: object"
      ]
     },
     "execution_count": 55,
     "metadata": {},
     "output_type": "execute_result"
    }
   ],
   "source": [
    "df_new.dtypes"
   ]
  },
  {
   "cell_type": "code",
   "execution_count": 56,
   "id": "8045cfb5-7925-46aa-b1c9-a91301b32b3c",
   "metadata": {},
   "outputs": [],
   "source": [
    "df_new[\"Customer_ID\"] = df_new[\"Customer_ID\"].astype(\"int64\")"
   ]
  },
  {
   "cell_type": "code",
   "execution_count": 57,
   "id": "8b85b003-5a6d-46b8-8de4-42235344f72a",
   "metadata": {},
   "outputs": [
    {
     "data": {
      "text/plain": [
       "Invoice_No              object\n",
       "Stock_Code              object\n",
       "Description             object\n",
       "Quantity                 int64\n",
       "Invoice_Date    datetime64[ns]\n",
       "Unit_Price             float64\n",
       "Customer_ID              int64\n",
       "country                 object\n",
       "dtype: object"
      ]
     },
     "execution_count": 57,
     "metadata": {},
     "output_type": "execute_result"
    }
   ],
   "source": [
    "df_new.dtypes"
   ]
  },
  {
   "cell_type": "code",
   "execution_count": 58,
   "id": "59212ce2-3953-47c6-ab88-9236cd5362cc",
   "metadata": {},
   "outputs": [
    {
     "data": {
      "text/html": [
       "<div>\n",
       "<style scoped>\n",
       "    .dataframe tbody tr th:only-of-type {\n",
       "        vertical-align: middle;\n",
       "    }\n",
       "\n",
       "    .dataframe tbody tr th {\n",
       "        vertical-align: top;\n",
       "    }\n",
       "\n",
       "    .dataframe thead th {\n",
       "        text-align: right;\n",
       "    }\n",
       "</style>\n",
       "<table border=\"1\" class=\"dataframe\">\n",
       "  <thead>\n",
       "    <tr style=\"text-align: right;\">\n",
       "      <th></th>\n",
       "      <th>Invoice_No</th>\n",
       "      <th>Stock_Code</th>\n",
       "      <th>Description</th>\n",
       "      <th>Quantity</th>\n",
       "      <th>Invoice_Date</th>\n",
       "      <th>Unit_Price</th>\n",
       "      <th>Customer_ID</th>\n",
       "      <th>country</th>\n",
       "    </tr>\n",
       "  </thead>\n",
       "  <tbody>\n",
       "    <tr>\n",
       "      <th>0</th>\n",
       "      <td>536365</td>\n",
       "      <td>85123A</td>\n",
       "      <td>white hanging heart t-light holder</td>\n",
       "      <td>6</td>\n",
       "      <td>2010-12-01 08:26:00</td>\n",
       "      <td>2.55</td>\n",
       "      <td>17850</td>\n",
       "      <td>United Kingdom</td>\n",
       "    </tr>\n",
       "    <tr>\n",
       "      <th>1</th>\n",
       "      <td>536365</td>\n",
       "      <td>71053</td>\n",
       "      <td>white metal lantern</td>\n",
       "      <td>6</td>\n",
       "      <td>2010-12-01 08:26:00</td>\n",
       "      <td>3.39</td>\n",
       "      <td>17850</td>\n",
       "      <td>United Kingdom</td>\n",
       "    </tr>\n",
       "    <tr>\n",
       "      <th>2</th>\n",
       "      <td>536365</td>\n",
       "      <td>84406B</td>\n",
       "      <td>cream cupid hearts coat hanger</td>\n",
       "      <td>8</td>\n",
       "      <td>2010-12-01 08:26:00</td>\n",
       "      <td>2.75</td>\n",
       "      <td>17850</td>\n",
       "      <td>United Kingdom</td>\n",
       "    </tr>\n",
       "    <tr>\n",
       "      <th>3</th>\n",
       "      <td>536365</td>\n",
       "      <td>84029G</td>\n",
       "      <td>knitted union flag hot water bottle</td>\n",
       "      <td>6</td>\n",
       "      <td>2010-12-01 08:26:00</td>\n",
       "      <td>3.39</td>\n",
       "      <td>17850</td>\n",
       "      <td>United Kingdom</td>\n",
       "    </tr>\n",
       "    <tr>\n",
       "      <th>4</th>\n",
       "      <td>536365</td>\n",
       "      <td>84029E</td>\n",
       "      <td>red woolly hottie white heart.</td>\n",
       "      <td>6</td>\n",
       "      <td>2010-12-01 08:26:00</td>\n",
       "      <td>3.39</td>\n",
       "      <td>17850</td>\n",
       "      <td>United Kingdom</td>\n",
       "    </tr>\n",
       "  </tbody>\n",
       "</table>\n",
       "</div>"
      ],
      "text/plain": [
       "  Invoice_No Stock_Code                          Description  Quantity  \\\n",
       "0     536365     85123A   white hanging heart t-light holder         6   \n",
       "1     536365      71053                  white metal lantern         6   \n",
       "2     536365     84406B       cream cupid hearts coat hanger         8   \n",
       "3     536365     84029G  knitted union flag hot water bottle         6   \n",
       "4     536365     84029E       red woolly hottie white heart.         6   \n",
       "\n",
       "         Invoice_Date  Unit_Price  Customer_ID         country  \n",
       "0 2010-12-01 08:26:00        2.55        17850  United Kingdom  \n",
       "1 2010-12-01 08:26:00        3.39        17850  United Kingdom  \n",
       "2 2010-12-01 08:26:00        2.75        17850  United Kingdom  \n",
       "3 2010-12-01 08:26:00        3.39        17850  United Kingdom  \n",
       "4 2010-12-01 08:26:00        3.39        17850  United Kingdom  "
      ]
     },
     "execution_count": 58,
     "metadata": {},
     "output_type": "execute_result"
    }
   ],
   "source": [
    "df_new.head()"
   ]
  },
  {
   "cell_type": "markdown",
   "id": "f936c6f6-cee4-4884-b013-913266885656",
   "metadata": {},
   "source": [
    "# New DataFrame information"
   ]
  },
  {
   "cell_type": "code",
   "execution_count": 60,
   "id": "14d9a4ee-8f5c-4d89-a0ce-060568fe6295",
   "metadata": {},
   "outputs": [
    {
     "name": "stdout",
     "output_type": "stream",
     "text": [
      "<class 'pandas.core.frame.DataFrame'>\n",
      "Index: 406829 entries, 0 to 541908\n",
      "Data columns (total 8 columns):\n",
      " #   Column        Non-Null Count   Dtype         \n",
      "---  ------        --------------   -----         \n",
      " 0   Invoice_No    406829 non-null  object        \n",
      " 1   Stock_Code    406829 non-null  object        \n",
      " 2   Description   406829 non-null  object        \n",
      " 3   Quantity      406829 non-null  int64         \n",
      " 4   Invoice_Date  406829 non-null  datetime64[ns]\n",
      " 5   Unit_Price    406829 non-null  float64       \n",
      " 6   Customer_ID   406829 non-null  int64         \n",
      " 7   country       406829 non-null  object        \n",
      "dtypes: datetime64[ns](1), float64(1), int64(2), object(4)\n",
      "memory usage: 27.9+ MB\n"
     ]
    }
   ],
   "source": [
    "df_new.info()"
   ]
  },
  {
   "cell_type": "markdown",
   "id": "5f398bf4-697f-4873-aa91-b02e0b96f3dd",
   "metadata": {},
   "source": [
    "# DataFrame description"
   ]
  },
  {
   "cell_type": "code",
   "execution_count": 62,
   "id": "ab9fe779-ec82-42a1-b70e-d3fd9e4dbddb",
   "metadata": {},
   "outputs": [
    {
     "data": {
      "text/html": [
       "<div>\n",
       "<style scoped>\n",
       "    .dataframe tbody tr th:only-of-type {\n",
       "        vertical-align: middle;\n",
       "    }\n",
       "\n",
       "    .dataframe tbody tr th {\n",
       "        vertical-align: top;\n",
       "    }\n",
       "\n",
       "    .dataframe thead th {\n",
       "        text-align: right;\n",
       "    }\n",
       "</style>\n",
       "<table border=\"1\" class=\"dataframe\">\n",
       "  <thead>\n",
       "    <tr style=\"text-align: right;\">\n",
       "      <th></th>\n",
       "      <th>Quantity</th>\n",
       "      <th>Invoice_Date</th>\n",
       "      <th>Unit_Price</th>\n",
       "      <th>Customer_ID</th>\n",
       "    </tr>\n",
       "  </thead>\n",
       "  <tbody>\n",
       "    <tr>\n",
       "      <th>count</th>\n",
       "      <td>406829.000000</td>\n",
       "      <td>406829</td>\n",
       "      <td>406829.000000</td>\n",
       "      <td>406829.000000</td>\n",
       "    </tr>\n",
       "    <tr>\n",
       "      <th>mean</th>\n",
       "      <td>12.061303</td>\n",
       "      <td>2011-07-10 16:30:57.879207424</td>\n",
       "      <td>3.460471</td>\n",
       "      <td>15287.690570</td>\n",
       "    </tr>\n",
       "    <tr>\n",
       "      <th>min</th>\n",
       "      <td>-80995.000000</td>\n",
       "      <td>2010-12-01 08:26:00</td>\n",
       "      <td>0.000000</td>\n",
       "      <td>12346.000000</td>\n",
       "    </tr>\n",
       "    <tr>\n",
       "      <th>25%</th>\n",
       "      <td>2.000000</td>\n",
       "      <td>2011-04-06 15:02:00</td>\n",
       "      <td>1.250000</td>\n",
       "      <td>13953.000000</td>\n",
       "    </tr>\n",
       "    <tr>\n",
       "      <th>50%</th>\n",
       "      <td>5.000000</td>\n",
       "      <td>2011-07-31 11:48:00</td>\n",
       "      <td>1.950000</td>\n",
       "      <td>15152.000000</td>\n",
       "    </tr>\n",
       "    <tr>\n",
       "      <th>75%</th>\n",
       "      <td>12.000000</td>\n",
       "      <td>2011-10-20 13:06:00</td>\n",
       "      <td>3.750000</td>\n",
       "      <td>16791.000000</td>\n",
       "    </tr>\n",
       "    <tr>\n",
       "      <th>max</th>\n",
       "      <td>80995.000000</td>\n",
       "      <td>2011-12-09 12:50:00</td>\n",
       "      <td>38970.000000</td>\n",
       "      <td>18287.000000</td>\n",
       "    </tr>\n",
       "    <tr>\n",
       "      <th>std</th>\n",
       "      <td>248.693370</td>\n",
       "      <td>NaN</td>\n",
       "      <td>69.315162</td>\n",
       "      <td>1713.600303</td>\n",
       "    </tr>\n",
       "  </tbody>\n",
       "</table>\n",
       "</div>"
      ],
      "text/plain": [
       "            Quantity                   Invoice_Date     Unit_Price  \\\n",
       "count  406829.000000                         406829  406829.000000   \n",
       "mean       12.061303  2011-07-10 16:30:57.879207424       3.460471   \n",
       "min    -80995.000000            2010-12-01 08:26:00       0.000000   \n",
       "25%         2.000000            2011-04-06 15:02:00       1.250000   \n",
       "50%         5.000000            2011-07-31 11:48:00       1.950000   \n",
       "75%        12.000000            2011-10-20 13:06:00       3.750000   \n",
       "max     80995.000000            2011-12-09 12:50:00   38970.000000   \n",
       "std       248.693370                            NaN      69.315162   \n",
       "\n",
       "         Customer_ID  \n",
       "count  406829.000000  \n",
       "mean    15287.690570  \n",
       "min     12346.000000  \n",
       "25%     13953.000000  \n",
       "50%     15152.000000  \n",
       "75%     16791.000000  \n",
       "max     18287.000000  \n",
       "std      1713.600303  "
      ]
     },
     "execution_count": 62,
     "metadata": {},
     "output_type": "execute_result"
    }
   ],
   "source": [
    "df_new.describe()"
   ]
  },
  {
   "cell_type": "markdown",
   "id": "cd141f19-6264-4c9e-b2d4-cc12ff277bc6",
   "metadata": {},
   "source": [
    "# Remove negative values from quantity column"
   ]
  },
  {
   "cell_type": "code",
   "execution_count": 64,
   "id": "3cc2f5fd-3861-4e8a-a2f3-6a68061868ce",
   "metadata": {},
   "outputs": [],
   "source": [
    "con1 = df_new[\"Quantity\"] > 0"
   ]
  },
  {
   "cell_type": "code",
   "execution_count": 65,
   "id": "9562d59a-e709-4f0f-bdb0-e16233efa84e",
   "metadata": {},
   "outputs": [],
   "source": [
    "df_new = df_new[con1]"
   ]
  },
  {
   "cell_type": "code",
   "execution_count": 66,
   "id": "1bd01ca5-20d1-4589-8e69-d288c1422da9",
   "metadata": {},
   "outputs": [
    {
     "data": {
      "text/html": [
       "<div>\n",
       "<style scoped>\n",
       "    .dataframe tbody tr th:only-of-type {\n",
       "        vertical-align: middle;\n",
       "    }\n",
       "\n",
       "    .dataframe tbody tr th {\n",
       "        vertical-align: top;\n",
       "    }\n",
       "\n",
       "    .dataframe thead th {\n",
       "        text-align: right;\n",
       "    }\n",
       "</style>\n",
       "<table border=\"1\" class=\"dataframe\">\n",
       "  <thead>\n",
       "    <tr style=\"text-align: right;\">\n",
       "      <th></th>\n",
       "      <th>Invoice_No</th>\n",
       "      <th>Stock_Code</th>\n",
       "      <th>Description</th>\n",
       "      <th>Quantity</th>\n",
       "      <th>Invoice_Date</th>\n",
       "      <th>Unit_Price</th>\n",
       "      <th>Customer_ID</th>\n",
       "      <th>country</th>\n",
       "    </tr>\n",
       "  </thead>\n",
       "  <tbody>\n",
       "    <tr>\n",
       "      <th>0</th>\n",
       "      <td>536365</td>\n",
       "      <td>85123A</td>\n",
       "      <td>white hanging heart t-light holder</td>\n",
       "      <td>6</td>\n",
       "      <td>2010-12-01 08:26:00</td>\n",
       "      <td>2.55</td>\n",
       "      <td>17850</td>\n",
       "      <td>United Kingdom</td>\n",
       "    </tr>\n",
       "    <tr>\n",
       "      <th>1</th>\n",
       "      <td>536365</td>\n",
       "      <td>71053</td>\n",
       "      <td>white metal lantern</td>\n",
       "      <td>6</td>\n",
       "      <td>2010-12-01 08:26:00</td>\n",
       "      <td>3.39</td>\n",
       "      <td>17850</td>\n",
       "      <td>United Kingdom</td>\n",
       "    </tr>\n",
       "    <tr>\n",
       "      <th>2</th>\n",
       "      <td>536365</td>\n",
       "      <td>84406B</td>\n",
       "      <td>cream cupid hearts coat hanger</td>\n",
       "      <td>8</td>\n",
       "      <td>2010-12-01 08:26:00</td>\n",
       "      <td>2.75</td>\n",
       "      <td>17850</td>\n",
       "      <td>United Kingdom</td>\n",
       "    </tr>\n",
       "    <tr>\n",
       "      <th>3</th>\n",
       "      <td>536365</td>\n",
       "      <td>84029G</td>\n",
       "      <td>knitted union flag hot water bottle</td>\n",
       "      <td>6</td>\n",
       "      <td>2010-12-01 08:26:00</td>\n",
       "      <td>3.39</td>\n",
       "      <td>17850</td>\n",
       "      <td>United Kingdom</td>\n",
       "    </tr>\n",
       "    <tr>\n",
       "      <th>4</th>\n",
       "      <td>536365</td>\n",
       "      <td>84029E</td>\n",
       "      <td>red woolly hottie white heart.</td>\n",
       "      <td>6</td>\n",
       "      <td>2010-12-01 08:26:00</td>\n",
       "      <td>3.39</td>\n",
       "      <td>17850</td>\n",
       "      <td>United Kingdom</td>\n",
       "    </tr>\n",
       "  </tbody>\n",
       "</table>\n",
       "</div>"
      ],
      "text/plain": [
       "  Invoice_No Stock_Code                          Description  Quantity  \\\n",
       "0     536365     85123A   white hanging heart t-light holder         6   \n",
       "1     536365      71053                  white metal lantern         6   \n",
       "2     536365     84406B       cream cupid hearts coat hanger         8   \n",
       "3     536365     84029G  knitted union flag hot water bottle         6   \n",
       "4     536365     84029E       red woolly hottie white heart.         6   \n",
       "\n",
       "         Invoice_Date  Unit_Price  Customer_ID         country  \n",
       "0 2010-12-01 08:26:00        2.55        17850  United Kingdom  \n",
       "1 2010-12-01 08:26:00        3.39        17850  United Kingdom  \n",
       "2 2010-12-01 08:26:00        2.75        17850  United Kingdom  \n",
       "3 2010-12-01 08:26:00        3.39        17850  United Kingdom  \n",
       "4 2010-12-01 08:26:00        3.39        17850  United Kingdom  "
      ]
     },
     "execution_count": 66,
     "metadata": {},
     "output_type": "execute_result"
    }
   ],
   "source": [
    "df_new.head()"
   ]
  },
  {
   "cell_type": "markdown",
   "id": "34ce2962-74b6-46e1-8703-9e56687a0df0",
   "metadata": {},
   "source": [
    "# Rounding the values in DataFrame"
   ]
  },
  {
   "cell_type": "code",
   "execution_count": 68,
   "id": "923d1281-b40d-4166-a007-a3715270d67d",
   "metadata": {},
   "outputs": [
    {
     "data": {
      "text/html": [
       "<div>\n",
       "<style scoped>\n",
       "    .dataframe tbody tr th:only-of-type {\n",
       "        vertical-align: middle;\n",
       "    }\n",
       "\n",
       "    .dataframe tbody tr th {\n",
       "        vertical-align: top;\n",
       "    }\n",
       "\n",
       "    .dataframe thead th {\n",
       "        text-align: right;\n",
       "    }\n",
       "</style>\n",
       "<table border=\"1\" class=\"dataframe\">\n",
       "  <thead>\n",
       "    <tr style=\"text-align: right;\">\n",
       "      <th></th>\n",
       "      <th>Quantity</th>\n",
       "      <th>Invoice_Date</th>\n",
       "      <th>Unit_Price</th>\n",
       "      <th>Customer_ID</th>\n",
       "    </tr>\n",
       "  </thead>\n",
       "  <tbody>\n",
       "    <tr>\n",
       "      <th>count</th>\n",
       "      <td>397924.00</td>\n",
       "      <td>397924</td>\n",
       "      <td>397924.00</td>\n",
       "      <td>397924.00</td>\n",
       "    </tr>\n",
       "    <tr>\n",
       "      <th>mean</th>\n",
       "      <td>13.02</td>\n",
       "      <td>2011-07-10 23:43:36.912475648</td>\n",
       "      <td>3.12</td>\n",
       "      <td>15294.32</td>\n",
       "    </tr>\n",
       "    <tr>\n",
       "      <th>min</th>\n",
       "      <td>1.00</td>\n",
       "      <td>2010-12-01 08:26:00</td>\n",
       "      <td>0.00</td>\n",
       "      <td>12346.00</td>\n",
       "    </tr>\n",
       "    <tr>\n",
       "      <th>25%</th>\n",
       "      <td>2.00</td>\n",
       "      <td>2011-04-07 11:12:00</td>\n",
       "      <td>1.25</td>\n",
       "      <td>13969.00</td>\n",
       "    </tr>\n",
       "    <tr>\n",
       "      <th>50%</th>\n",
       "      <td>6.00</td>\n",
       "      <td>2011-07-31 14:39:00</td>\n",
       "      <td>1.95</td>\n",
       "      <td>15159.00</td>\n",
       "    </tr>\n",
       "    <tr>\n",
       "      <th>75%</th>\n",
       "      <td>12.00</td>\n",
       "      <td>2011-10-20 14:33:00</td>\n",
       "      <td>3.75</td>\n",
       "      <td>16795.00</td>\n",
       "    </tr>\n",
       "    <tr>\n",
       "      <th>max</th>\n",
       "      <td>80995.00</td>\n",
       "      <td>2011-12-09 12:50:00</td>\n",
       "      <td>8142.75</td>\n",
       "      <td>18287.00</td>\n",
       "    </tr>\n",
       "    <tr>\n",
       "      <th>std</th>\n",
       "      <td>180.42</td>\n",
       "      <td>NaN</td>\n",
       "      <td>22.10</td>\n",
       "      <td>1713.17</td>\n",
       "    </tr>\n",
       "  </tbody>\n",
       "</table>\n",
       "</div>"
      ],
      "text/plain": [
       "        Quantity                   Invoice_Date  Unit_Price  Customer_ID\n",
       "count  397924.00                         397924   397924.00    397924.00\n",
       "mean       13.02  2011-07-10 23:43:36.912475648        3.12     15294.32\n",
       "min         1.00            2010-12-01 08:26:00        0.00     12346.00\n",
       "25%         2.00            2011-04-07 11:12:00        1.25     13969.00\n",
       "50%         6.00            2011-07-31 14:39:00        1.95     15159.00\n",
       "75%        12.00            2011-10-20 14:33:00        3.75     16795.00\n",
       "max     80995.00            2011-12-09 12:50:00     8142.75     18287.00\n",
       "std       180.42                            NaN       22.10      1713.17"
      ]
     },
     "execution_count": 68,
     "metadata": {},
     "output_type": "execute_result"
    }
   ],
   "source": [
    "df_new.describe().round(2)"
   ]
  },
  {
   "cell_type": "code",
   "execution_count": 69,
   "id": "9280e057-690c-4673-8104-4e9a20a484f3",
   "metadata": {},
   "outputs": [
    {
     "data": {
      "text/html": [
       "<div>\n",
       "<style scoped>\n",
       "    .dataframe tbody tr th:only-of-type {\n",
       "        vertical-align: middle;\n",
       "    }\n",
       "\n",
       "    .dataframe tbody tr th {\n",
       "        vertical-align: top;\n",
       "    }\n",
       "\n",
       "    .dataframe thead th {\n",
       "        text-align: right;\n",
       "    }\n",
       "</style>\n",
       "<table border=\"1\" class=\"dataframe\">\n",
       "  <thead>\n",
       "    <tr style=\"text-align: right;\">\n",
       "      <th></th>\n",
       "      <th>Invoice_No</th>\n",
       "      <th>Stock_Code</th>\n",
       "      <th>Description</th>\n",
       "      <th>Quantity</th>\n",
       "      <th>Invoice_Date</th>\n",
       "      <th>Unit_Price</th>\n",
       "      <th>Customer_ID</th>\n",
       "      <th>country</th>\n",
       "    </tr>\n",
       "  </thead>\n",
       "  <tbody>\n",
       "    <tr>\n",
       "      <th>0</th>\n",
       "      <td>536365</td>\n",
       "      <td>85123A</td>\n",
       "      <td>white hanging heart t-light holder</td>\n",
       "      <td>6</td>\n",
       "      <td>2010-12-01 08:26:00</td>\n",
       "      <td>2.55</td>\n",
       "      <td>17850</td>\n",
       "      <td>United Kingdom</td>\n",
       "    </tr>\n",
       "    <tr>\n",
       "      <th>1</th>\n",
       "      <td>536365</td>\n",
       "      <td>71053</td>\n",
       "      <td>white metal lantern</td>\n",
       "      <td>6</td>\n",
       "      <td>2010-12-01 08:26:00</td>\n",
       "      <td>3.39</td>\n",
       "      <td>17850</td>\n",
       "      <td>United Kingdom</td>\n",
       "    </tr>\n",
       "    <tr>\n",
       "      <th>2</th>\n",
       "      <td>536365</td>\n",
       "      <td>84406B</td>\n",
       "      <td>cream cupid hearts coat hanger</td>\n",
       "      <td>8</td>\n",
       "      <td>2010-12-01 08:26:00</td>\n",
       "      <td>2.75</td>\n",
       "      <td>17850</td>\n",
       "      <td>United Kingdom</td>\n",
       "    </tr>\n",
       "    <tr>\n",
       "      <th>3</th>\n",
       "      <td>536365</td>\n",
       "      <td>84029G</td>\n",
       "      <td>knitted union flag hot water bottle</td>\n",
       "      <td>6</td>\n",
       "      <td>2010-12-01 08:26:00</td>\n",
       "      <td>3.39</td>\n",
       "      <td>17850</td>\n",
       "      <td>United Kingdom</td>\n",
       "    </tr>\n",
       "    <tr>\n",
       "      <th>4</th>\n",
       "      <td>536365</td>\n",
       "      <td>84029E</td>\n",
       "      <td>red woolly hottie white heart.</td>\n",
       "      <td>6</td>\n",
       "      <td>2010-12-01 08:26:00</td>\n",
       "      <td>3.39</td>\n",
       "      <td>17850</td>\n",
       "      <td>United Kingdom</td>\n",
       "    </tr>\n",
       "  </tbody>\n",
       "</table>\n",
       "</div>"
      ],
      "text/plain": [
       "  Invoice_No Stock_Code                          Description  Quantity  \\\n",
       "0     536365     85123A   white hanging heart t-light holder         6   \n",
       "1     536365      71053                  white metal lantern         6   \n",
       "2     536365     84406B       cream cupid hearts coat hanger         8   \n",
       "3     536365     84029G  knitted union flag hot water bottle         6   \n",
       "4     536365     84029E       red woolly hottie white heart.         6   \n",
       "\n",
       "         Invoice_Date  Unit_Price  Customer_ID         country  \n",
       "0 2010-12-01 08:26:00        2.55        17850  United Kingdom  \n",
       "1 2010-12-01 08:26:00        3.39        17850  United Kingdom  \n",
       "2 2010-12-01 08:26:00        2.75        17850  United Kingdom  \n",
       "3 2010-12-01 08:26:00        3.39        17850  United Kingdom  \n",
       "4 2010-12-01 08:26:00        3.39        17850  United Kingdom  "
      ]
     },
     "execution_count": 69,
     "metadata": {},
     "output_type": "execute_result"
    }
   ],
   "source": [
    "df_new.head()"
   ]
  },
  {
   "cell_type": "markdown",
   "id": "e7bacb47-8e21-49b3-b9c4-3747c02f94af",
   "metadata": {},
   "source": [
    "# Adding the column - amount_spent"
   ]
  },
  {
   "cell_type": "code",
   "execution_count": 71,
   "id": "101c4f63-edd8-4a67-af08-31092dc1030b",
   "metadata": {},
   "outputs": [],
   "source": [
    "df_new[\"Amount_Spend\"] = df_new[\"Quantity\"] * df_new[\"Unit_Price\"]"
   ]
  },
  {
   "cell_type": "code",
   "execution_count": 72,
   "id": "422c02f8-a834-49a7-bc83-3247e29179c6",
   "metadata": {},
   "outputs": [
    {
     "data": {
      "text/html": [
       "<div>\n",
       "<style scoped>\n",
       "    .dataframe tbody tr th:only-of-type {\n",
       "        vertical-align: middle;\n",
       "    }\n",
       "\n",
       "    .dataframe tbody tr th {\n",
       "        vertical-align: top;\n",
       "    }\n",
       "\n",
       "    .dataframe thead th {\n",
       "        text-align: right;\n",
       "    }\n",
       "</style>\n",
       "<table border=\"1\" class=\"dataframe\">\n",
       "  <thead>\n",
       "    <tr style=\"text-align: right;\">\n",
       "      <th></th>\n",
       "      <th>Invoice_No</th>\n",
       "      <th>Stock_Code</th>\n",
       "      <th>Description</th>\n",
       "      <th>Quantity</th>\n",
       "      <th>Invoice_Date</th>\n",
       "      <th>Unit_Price</th>\n",
       "      <th>Customer_ID</th>\n",
       "      <th>country</th>\n",
       "      <th>Amount_Spend</th>\n",
       "    </tr>\n",
       "  </thead>\n",
       "  <tbody>\n",
       "    <tr>\n",
       "      <th>0</th>\n",
       "      <td>536365</td>\n",
       "      <td>85123A</td>\n",
       "      <td>white hanging heart t-light holder</td>\n",
       "      <td>6</td>\n",
       "      <td>2010-12-01 08:26:00</td>\n",
       "      <td>2.55</td>\n",
       "      <td>17850</td>\n",
       "      <td>United Kingdom</td>\n",
       "      <td>15.30</td>\n",
       "    </tr>\n",
       "    <tr>\n",
       "      <th>1</th>\n",
       "      <td>536365</td>\n",
       "      <td>71053</td>\n",
       "      <td>white metal lantern</td>\n",
       "      <td>6</td>\n",
       "      <td>2010-12-01 08:26:00</td>\n",
       "      <td>3.39</td>\n",
       "      <td>17850</td>\n",
       "      <td>United Kingdom</td>\n",
       "      <td>20.34</td>\n",
       "    </tr>\n",
       "    <tr>\n",
       "      <th>2</th>\n",
       "      <td>536365</td>\n",
       "      <td>84406B</td>\n",
       "      <td>cream cupid hearts coat hanger</td>\n",
       "      <td>8</td>\n",
       "      <td>2010-12-01 08:26:00</td>\n",
       "      <td>2.75</td>\n",
       "      <td>17850</td>\n",
       "      <td>United Kingdom</td>\n",
       "      <td>22.00</td>\n",
       "    </tr>\n",
       "    <tr>\n",
       "      <th>3</th>\n",
       "      <td>536365</td>\n",
       "      <td>84029G</td>\n",
       "      <td>knitted union flag hot water bottle</td>\n",
       "      <td>6</td>\n",
       "      <td>2010-12-01 08:26:00</td>\n",
       "      <td>3.39</td>\n",
       "      <td>17850</td>\n",
       "      <td>United Kingdom</td>\n",
       "      <td>20.34</td>\n",
       "    </tr>\n",
       "    <tr>\n",
       "      <th>4</th>\n",
       "      <td>536365</td>\n",
       "      <td>84029E</td>\n",
       "      <td>red woolly hottie white heart.</td>\n",
       "      <td>6</td>\n",
       "      <td>2010-12-01 08:26:00</td>\n",
       "      <td>3.39</td>\n",
       "      <td>17850</td>\n",
       "      <td>United Kingdom</td>\n",
       "      <td>20.34</td>\n",
       "    </tr>\n",
       "  </tbody>\n",
       "</table>\n",
       "</div>"
      ],
      "text/plain": [
       "  Invoice_No Stock_Code                          Description  Quantity  \\\n",
       "0     536365     85123A   white hanging heart t-light holder         6   \n",
       "1     536365      71053                  white metal lantern         6   \n",
       "2     536365     84406B       cream cupid hearts coat hanger         8   \n",
       "3     536365     84029G  knitted union flag hot water bottle         6   \n",
       "4     536365     84029E       red woolly hottie white heart.         6   \n",
       "\n",
       "         Invoice_Date  Unit_Price  Customer_ID         country  Amount_Spend  \n",
       "0 2010-12-01 08:26:00        2.55        17850  United Kingdom         15.30  \n",
       "1 2010-12-01 08:26:00        3.39        17850  United Kingdom         20.34  \n",
       "2 2010-12-01 08:26:00        2.75        17850  United Kingdom         22.00  \n",
       "3 2010-12-01 08:26:00        3.39        17850  United Kingdom         20.34  \n",
       "4 2010-12-01 08:26:00        3.39        17850  United Kingdom         20.34  "
      ]
     },
     "execution_count": 72,
     "metadata": {},
     "output_type": "execute_result"
    }
   ],
   "source": [
    "df_new.head()"
   ]
  },
  {
   "cell_type": "markdown",
   "id": "4343a210-068f-4240-8c97-ae442589b9e6",
   "metadata": {},
   "source": [
    "# Rearranging columns for more readability"
   ]
  },
  {
   "cell_type": "code",
   "execution_count": 74,
   "id": "91f51d6c-e6e9-4033-ae3a-6e2670709e55",
   "metadata": {},
   "outputs": [],
   "source": [
    "col_order = [\"Invoice_No\",\"Invoice_Date\",\"Customer_ID\",\"Stock_Code\",\"Description\",\"Unit_Price\",\"Quantity\",\"Amount_Spend\",\"country\"]"
   ]
  },
  {
   "cell_type": "code",
   "execution_count": 75,
   "id": "d167b0a3-77b7-46c9-9ff4-1cc7e7ad505e",
   "metadata": {},
   "outputs": [],
   "source": [
    "df_new = df_new[col_order]"
   ]
  },
  {
   "cell_type": "code",
   "execution_count": 76,
   "id": "d48766ef-8e35-4d3a-bea5-990a20246114",
   "metadata": {},
   "outputs": [
    {
     "data": {
      "text/html": [
       "<div>\n",
       "<style scoped>\n",
       "    .dataframe tbody tr th:only-of-type {\n",
       "        vertical-align: middle;\n",
       "    }\n",
       "\n",
       "    .dataframe tbody tr th {\n",
       "        vertical-align: top;\n",
       "    }\n",
       "\n",
       "    .dataframe thead th {\n",
       "        text-align: right;\n",
       "    }\n",
       "</style>\n",
       "<table border=\"1\" class=\"dataframe\">\n",
       "  <thead>\n",
       "    <tr style=\"text-align: right;\">\n",
       "      <th></th>\n",
       "      <th>Invoice_No</th>\n",
       "      <th>Invoice_Date</th>\n",
       "      <th>Customer_ID</th>\n",
       "      <th>Stock_Code</th>\n",
       "      <th>Description</th>\n",
       "      <th>Unit_Price</th>\n",
       "      <th>Quantity</th>\n",
       "      <th>Amount_Spend</th>\n",
       "      <th>country</th>\n",
       "    </tr>\n",
       "  </thead>\n",
       "  <tbody>\n",
       "    <tr>\n",
       "      <th>0</th>\n",
       "      <td>536365</td>\n",
       "      <td>2010-12-01 08:26:00</td>\n",
       "      <td>17850</td>\n",
       "      <td>85123A</td>\n",
       "      <td>white hanging heart t-light holder</td>\n",
       "      <td>2.55</td>\n",
       "      <td>6</td>\n",
       "      <td>15.30</td>\n",
       "      <td>United Kingdom</td>\n",
       "    </tr>\n",
       "    <tr>\n",
       "      <th>1</th>\n",
       "      <td>536365</td>\n",
       "      <td>2010-12-01 08:26:00</td>\n",
       "      <td>17850</td>\n",
       "      <td>71053</td>\n",
       "      <td>white metal lantern</td>\n",
       "      <td>3.39</td>\n",
       "      <td>6</td>\n",
       "      <td>20.34</td>\n",
       "      <td>United Kingdom</td>\n",
       "    </tr>\n",
       "    <tr>\n",
       "      <th>2</th>\n",
       "      <td>536365</td>\n",
       "      <td>2010-12-01 08:26:00</td>\n",
       "      <td>17850</td>\n",
       "      <td>84406B</td>\n",
       "      <td>cream cupid hearts coat hanger</td>\n",
       "      <td>2.75</td>\n",
       "      <td>8</td>\n",
       "      <td>22.00</td>\n",
       "      <td>United Kingdom</td>\n",
       "    </tr>\n",
       "    <tr>\n",
       "      <th>3</th>\n",
       "      <td>536365</td>\n",
       "      <td>2010-12-01 08:26:00</td>\n",
       "      <td>17850</td>\n",
       "      <td>84029G</td>\n",
       "      <td>knitted union flag hot water bottle</td>\n",
       "      <td>3.39</td>\n",
       "      <td>6</td>\n",
       "      <td>20.34</td>\n",
       "      <td>United Kingdom</td>\n",
       "    </tr>\n",
       "    <tr>\n",
       "      <th>4</th>\n",
       "      <td>536365</td>\n",
       "      <td>2010-12-01 08:26:00</td>\n",
       "      <td>17850</td>\n",
       "      <td>84029E</td>\n",
       "      <td>red woolly hottie white heart.</td>\n",
       "      <td>3.39</td>\n",
       "      <td>6</td>\n",
       "      <td>20.34</td>\n",
       "      <td>United Kingdom</td>\n",
       "    </tr>\n",
       "  </tbody>\n",
       "</table>\n",
       "</div>"
      ],
      "text/plain": [
       "  Invoice_No        Invoice_Date  Customer_ID Stock_Code  \\\n",
       "0     536365 2010-12-01 08:26:00        17850     85123A   \n",
       "1     536365 2010-12-01 08:26:00        17850      71053   \n",
       "2     536365 2010-12-01 08:26:00        17850     84406B   \n",
       "3     536365 2010-12-01 08:26:00        17850     84029G   \n",
       "4     536365 2010-12-01 08:26:00        17850     84029E   \n",
       "\n",
       "                           Description  Unit_Price  Quantity  Amount_Spend  \\\n",
       "0   white hanging heart t-light holder        2.55         6         15.30   \n",
       "1                  white metal lantern        3.39         6         20.34   \n",
       "2       cream cupid hearts coat hanger        2.75         8         22.00   \n",
       "3  knitted union flag hot water bottle        3.39         6         20.34   \n",
       "4       red woolly hottie white heart.        3.39         6         20.34   \n",
       "\n",
       "          country  \n",
       "0  United Kingdom  \n",
       "1  United Kingdom  \n",
       "2  United Kingdom  \n",
       "3  United Kingdom  \n",
       "4  United Kingdom  "
      ]
     },
     "execution_count": 76,
     "metadata": {},
     "output_type": "execute_result"
    }
   ],
   "source": [
    "df_new.head()"
   ]
  },
  {
   "cell_type": "markdown",
   "id": "24dcd6cd-4561-471e-aaa4-2e5b1ddb0643",
   "metadata": {},
   "source": [
    "# Accessing year value from invoice_date"
   ]
  },
  {
   "cell_type": "code",
   "execution_count": 78,
   "id": "d0680d77-7b69-45e4-8458-5ce57a62a0e4",
   "metadata": {},
   "outputs": [
    {
     "data": {
      "text/plain": [
       "0         2010.0\n",
       "1         2010.0\n",
       "2         2010.0\n",
       "3         2010.0\n",
       "4         2010.0\n",
       "           ...  \n",
       "541904    2011.0\n",
       "541905    2011.0\n",
       "541906    2011.0\n",
       "541907    2011.0\n",
       "541908    2011.0\n",
       "Name: Invoice_Date, Length: 397924, dtype: float64"
      ]
     },
     "execution_count": 78,
     "metadata": {},
     "output_type": "execute_result"
    }
   ],
   "source": [
    "v1 = df_new[\"Invoice_Date\"].dt.year*100\n",
    "v1/100"
   ]
  },
  {
   "cell_type": "markdown",
   "id": "0588ee72-19e9-40c6-910c-3750fd6b6172",
   "metadata": {},
   "source": [
    "# Accessing month value from invoice_date"
   ]
  },
  {
   "cell_type": "code",
   "execution_count": 80,
   "id": "943ecf98-9b19-4732-86dc-9de97c0cb1ee",
   "metadata": {},
   "outputs": [
    {
     "data": {
      "text/plain": [
       "0         12\n",
       "1         12\n",
       "2         12\n",
       "3         12\n",
       "4         12\n",
       "          ..\n",
       "541904    12\n",
       "541905    12\n",
       "541906    12\n",
       "541907    12\n",
       "541908    12\n",
       "Name: Invoice_Date, Length: 397924, dtype: int32"
      ]
     },
     "execution_count": 80,
     "metadata": {},
     "output_type": "execute_result"
    }
   ],
   "source": [
    "v2 = df_new[\"Invoice_Date\"].dt.month\n",
    "v2"
   ]
  },
  {
   "cell_type": "markdown",
   "id": "c9b56497-fcea-440b-8cfa-0ab24ad0a9e7",
   "metadata": {},
   "source": [
    "# Adding year_month column from Invoice_Date"
   ]
  },
  {
   "cell_type": "code",
   "execution_count": 82,
   "id": "ecadd430-992c-4df3-aa37-05a4f79f075c",
   "metadata": {},
   "outputs": [],
   "source": [
    "v3 = v1+v2"
   ]
  },
  {
   "cell_type": "code",
   "execution_count": 83,
   "id": "ea4d8b0c-f0eb-4466-a6ef-864ada022cbb",
   "metadata": {},
   "outputs": [],
   "source": [
    "df_new.insert(loc = 2,column = \"Year_Month\",value = v3)"
   ]
  },
  {
   "cell_type": "code",
   "execution_count": 84,
   "id": "4da444ab-21b4-4b6b-8839-b4f554bf0f63",
   "metadata": {},
   "outputs": [
    {
     "data": {
      "text/html": [
       "<div>\n",
       "<style scoped>\n",
       "    .dataframe tbody tr th:only-of-type {\n",
       "        vertical-align: middle;\n",
       "    }\n",
       "\n",
       "    .dataframe tbody tr th {\n",
       "        vertical-align: top;\n",
       "    }\n",
       "\n",
       "    .dataframe thead th {\n",
       "        text-align: right;\n",
       "    }\n",
       "</style>\n",
       "<table border=\"1\" class=\"dataframe\">\n",
       "  <thead>\n",
       "    <tr style=\"text-align: right;\">\n",
       "      <th></th>\n",
       "      <th>Invoice_No</th>\n",
       "      <th>Invoice_Date</th>\n",
       "      <th>Year_Month</th>\n",
       "      <th>Customer_ID</th>\n",
       "      <th>Stock_Code</th>\n",
       "      <th>Description</th>\n",
       "      <th>Unit_Price</th>\n",
       "      <th>Quantity</th>\n",
       "      <th>Amount_Spend</th>\n",
       "      <th>country</th>\n",
       "    </tr>\n",
       "  </thead>\n",
       "  <tbody>\n",
       "    <tr>\n",
       "      <th>0</th>\n",
       "      <td>536365</td>\n",
       "      <td>2010-12-01 08:26:00</td>\n",
       "      <td>201012</td>\n",
       "      <td>17850</td>\n",
       "      <td>85123A</td>\n",
       "      <td>white hanging heart t-light holder</td>\n",
       "      <td>2.55</td>\n",
       "      <td>6</td>\n",
       "      <td>15.30</td>\n",
       "      <td>United Kingdom</td>\n",
       "    </tr>\n",
       "    <tr>\n",
       "      <th>1</th>\n",
       "      <td>536365</td>\n",
       "      <td>2010-12-01 08:26:00</td>\n",
       "      <td>201012</td>\n",
       "      <td>17850</td>\n",
       "      <td>71053</td>\n",
       "      <td>white metal lantern</td>\n",
       "      <td>3.39</td>\n",
       "      <td>6</td>\n",
       "      <td>20.34</td>\n",
       "      <td>United Kingdom</td>\n",
       "    </tr>\n",
       "    <tr>\n",
       "      <th>2</th>\n",
       "      <td>536365</td>\n",
       "      <td>2010-12-01 08:26:00</td>\n",
       "      <td>201012</td>\n",
       "      <td>17850</td>\n",
       "      <td>84406B</td>\n",
       "      <td>cream cupid hearts coat hanger</td>\n",
       "      <td>2.75</td>\n",
       "      <td>8</td>\n",
       "      <td>22.00</td>\n",
       "      <td>United Kingdom</td>\n",
       "    </tr>\n",
       "    <tr>\n",
       "      <th>3</th>\n",
       "      <td>536365</td>\n",
       "      <td>2010-12-01 08:26:00</td>\n",
       "      <td>201012</td>\n",
       "      <td>17850</td>\n",
       "      <td>84029G</td>\n",
       "      <td>knitted union flag hot water bottle</td>\n",
       "      <td>3.39</td>\n",
       "      <td>6</td>\n",
       "      <td>20.34</td>\n",
       "      <td>United Kingdom</td>\n",
       "    </tr>\n",
       "    <tr>\n",
       "      <th>4</th>\n",
       "      <td>536365</td>\n",
       "      <td>2010-12-01 08:26:00</td>\n",
       "      <td>201012</td>\n",
       "      <td>17850</td>\n",
       "      <td>84029E</td>\n",
       "      <td>red woolly hottie white heart.</td>\n",
       "      <td>3.39</td>\n",
       "      <td>6</td>\n",
       "      <td>20.34</td>\n",
       "      <td>United Kingdom</td>\n",
       "    </tr>\n",
       "  </tbody>\n",
       "</table>\n",
       "</div>"
      ],
      "text/plain": [
       "  Invoice_No        Invoice_Date  Year_Month  Customer_ID Stock_Code  \\\n",
       "0     536365 2010-12-01 08:26:00      201012        17850     85123A   \n",
       "1     536365 2010-12-01 08:26:00      201012        17850      71053   \n",
       "2     536365 2010-12-01 08:26:00      201012        17850     84406B   \n",
       "3     536365 2010-12-01 08:26:00      201012        17850     84029G   \n",
       "4     536365 2010-12-01 08:26:00      201012        17850     84029E   \n",
       "\n",
       "                           Description  Unit_Price  Quantity  Amount_Spend  \\\n",
       "0   white hanging heart t-light holder        2.55         6         15.30   \n",
       "1                  white metal lantern        3.39         6         20.34   \n",
       "2       cream cupid hearts coat hanger        2.75         8         22.00   \n",
       "3  knitted union flag hot water bottle        3.39         6         20.34   \n",
       "4       red woolly hottie white heart.        3.39         6         20.34   \n",
       "\n",
       "          country  \n",
       "0  United Kingdom  \n",
       "1  United Kingdom  \n",
       "2  United Kingdom  \n",
       "3  United Kingdom  \n",
       "4  United Kingdom  "
      ]
     },
     "execution_count": 84,
     "metadata": {},
     "output_type": "execute_result"
    }
   ],
   "source": [
    "df_new.head()"
   ]
  },
  {
   "cell_type": "markdown",
   "id": "bb2cbe0f-0e29-4349-aac8-5392b0659e77",
   "metadata": {},
   "source": [
    "# Adding month column to the exisint DataFrame"
   ]
  },
  {
   "cell_type": "code",
   "execution_count": 86,
   "id": "fa4c625d-d02d-4f4b-af16-5b0e4dfbcbc0",
   "metadata": {},
   "outputs": [],
   "source": [
    "m1 = df_new[\"Invoice_Date\"].dt.month"
   ]
  },
  {
   "cell_type": "code",
   "execution_count": 87,
   "id": "4c605980-c54e-4978-881d-66808350886c",
   "metadata": {},
   "outputs": [],
   "source": [
    "df_new.insert(loc = 3,column = \"Month\",value = m1,)"
   ]
  },
  {
   "cell_type": "code",
   "execution_count": 88,
   "id": "b2ef7c3b-682f-421b-aa15-b0493091590c",
   "metadata": {},
   "outputs": [
    {
     "data": {
      "text/html": [
       "<div>\n",
       "<style scoped>\n",
       "    .dataframe tbody tr th:only-of-type {\n",
       "        vertical-align: middle;\n",
       "    }\n",
       "\n",
       "    .dataframe tbody tr th {\n",
       "        vertical-align: top;\n",
       "    }\n",
       "\n",
       "    .dataframe thead th {\n",
       "        text-align: right;\n",
       "    }\n",
       "</style>\n",
       "<table border=\"1\" class=\"dataframe\">\n",
       "  <thead>\n",
       "    <tr style=\"text-align: right;\">\n",
       "      <th></th>\n",
       "      <th>Invoice_No</th>\n",
       "      <th>Invoice_Date</th>\n",
       "      <th>Year_Month</th>\n",
       "      <th>Month</th>\n",
       "      <th>Customer_ID</th>\n",
       "      <th>Stock_Code</th>\n",
       "      <th>Description</th>\n",
       "      <th>Unit_Price</th>\n",
       "      <th>Quantity</th>\n",
       "      <th>Amount_Spend</th>\n",
       "      <th>country</th>\n",
       "    </tr>\n",
       "  </thead>\n",
       "  <tbody>\n",
       "    <tr>\n",
       "      <th>0</th>\n",
       "      <td>536365</td>\n",
       "      <td>2010-12-01 08:26:00</td>\n",
       "      <td>201012</td>\n",
       "      <td>12</td>\n",
       "      <td>17850</td>\n",
       "      <td>85123A</td>\n",
       "      <td>white hanging heart t-light holder</td>\n",
       "      <td>2.55</td>\n",
       "      <td>6</td>\n",
       "      <td>15.30</td>\n",
       "      <td>United Kingdom</td>\n",
       "    </tr>\n",
       "    <tr>\n",
       "      <th>1</th>\n",
       "      <td>536365</td>\n",
       "      <td>2010-12-01 08:26:00</td>\n",
       "      <td>201012</td>\n",
       "      <td>12</td>\n",
       "      <td>17850</td>\n",
       "      <td>71053</td>\n",
       "      <td>white metal lantern</td>\n",
       "      <td>3.39</td>\n",
       "      <td>6</td>\n",
       "      <td>20.34</td>\n",
       "      <td>United Kingdom</td>\n",
       "    </tr>\n",
       "    <tr>\n",
       "      <th>2</th>\n",
       "      <td>536365</td>\n",
       "      <td>2010-12-01 08:26:00</td>\n",
       "      <td>201012</td>\n",
       "      <td>12</td>\n",
       "      <td>17850</td>\n",
       "      <td>84406B</td>\n",
       "      <td>cream cupid hearts coat hanger</td>\n",
       "      <td>2.75</td>\n",
       "      <td>8</td>\n",
       "      <td>22.00</td>\n",
       "      <td>United Kingdom</td>\n",
       "    </tr>\n",
       "    <tr>\n",
       "      <th>3</th>\n",
       "      <td>536365</td>\n",
       "      <td>2010-12-01 08:26:00</td>\n",
       "      <td>201012</td>\n",
       "      <td>12</td>\n",
       "      <td>17850</td>\n",
       "      <td>84029G</td>\n",
       "      <td>knitted union flag hot water bottle</td>\n",
       "      <td>3.39</td>\n",
       "      <td>6</td>\n",
       "      <td>20.34</td>\n",
       "      <td>United Kingdom</td>\n",
       "    </tr>\n",
       "    <tr>\n",
       "      <th>4</th>\n",
       "      <td>536365</td>\n",
       "      <td>2010-12-01 08:26:00</td>\n",
       "      <td>201012</td>\n",
       "      <td>12</td>\n",
       "      <td>17850</td>\n",
       "      <td>84029E</td>\n",
       "      <td>red woolly hottie white heart.</td>\n",
       "      <td>3.39</td>\n",
       "      <td>6</td>\n",
       "      <td>20.34</td>\n",
       "      <td>United Kingdom</td>\n",
       "    </tr>\n",
       "  </tbody>\n",
       "</table>\n",
       "</div>"
      ],
      "text/plain": [
       "  Invoice_No        Invoice_Date  Year_Month  Month  Customer_ID Stock_Code  \\\n",
       "0     536365 2010-12-01 08:26:00      201012     12        17850     85123A   \n",
       "1     536365 2010-12-01 08:26:00      201012     12        17850      71053   \n",
       "2     536365 2010-12-01 08:26:00      201012     12        17850     84406B   \n",
       "3     536365 2010-12-01 08:26:00      201012     12        17850     84029G   \n",
       "4     536365 2010-12-01 08:26:00      201012     12        17850     84029E   \n",
       "\n",
       "                           Description  Unit_Price  Quantity  Amount_Spend  \\\n",
       "0   white hanging heart t-light holder        2.55         6         15.30   \n",
       "1                  white metal lantern        3.39         6         20.34   \n",
       "2       cream cupid hearts coat hanger        2.75         8         22.00   \n",
       "3  knitted union flag hot water bottle        3.39         6         20.34   \n",
       "4       red woolly hottie white heart.        3.39         6         20.34   \n",
       "\n",
       "          country  \n",
       "0  United Kingdom  \n",
       "1  United Kingdom  \n",
       "2  United Kingdom  \n",
       "3  United Kingdom  \n",
       "4  United Kingdom  "
      ]
     },
     "execution_count": 88,
     "metadata": {},
     "output_type": "execute_result"
    }
   ],
   "source": [
    "df_new.head()"
   ]
  },
  {
   "cell_type": "markdown",
   "id": "724b4213-1678-480e-91fc-bc0782a1571e",
   "metadata": {},
   "source": [
    "# Adding Day Name from Invoice_Date"
   ]
  },
  {
   "cell_type": "code",
   "execution_count": 90,
   "id": "cb940cb8-05b7-4d2a-a502-6488faf12479",
   "metadata": {},
   "outputs": [],
   "source": [
    "d1 = df_new[\"Invoice_Date\"].dt.day_name()"
   ]
  },
  {
   "cell_type": "code",
   "execution_count": 91,
   "id": "24fd3a72-ebaf-400d-bd61-6f21f55db751",
   "metadata": {},
   "outputs": [],
   "source": [
    "df_new.insert(loc = 4,column = \"Day\",value = d1)"
   ]
  },
  {
   "cell_type": "code",
   "execution_count": 92,
   "id": "86baada0-e80c-4f30-8bc8-bbb7e1493acb",
   "metadata": {},
   "outputs": [
    {
     "data": {
      "text/html": [
       "<div>\n",
       "<style scoped>\n",
       "    .dataframe tbody tr th:only-of-type {\n",
       "        vertical-align: middle;\n",
       "    }\n",
       "\n",
       "    .dataframe tbody tr th {\n",
       "        vertical-align: top;\n",
       "    }\n",
       "\n",
       "    .dataframe thead th {\n",
       "        text-align: right;\n",
       "    }\n",
       "</style>\n",
       "<table border=\"1\" class=\"dataframe\">\n",
       "  <thead>\n",
       "    <tr style=\"text-align: right;\">\n",
       "      <th></th>\n",
       "      <th>Invoice_No</th>\n",
       "      <th>Invoice_Date</th>\n",
       "      <th>Year_Month</th>\n",
       "      <th>Month</th>\n",
       "      <th>Day</th>\n",
       "      <th>Customer_ID</th>\n",
       "      <th>Stock_Code</th>\n",
       "      <th>Description</th>\n",
       "      <th>Unit_Price</th>\n",
       "      <th>Quantity</th>\n",
       "      <th>Amount_Spend</th>\n",
       "      <th>country</th>\n",
       "    </tr>\n",
       "  </thead>\n",
       "  <tbody>\n",
       "    <tr>\n",
       "      <th>0</th>\n",
       "      <td>536365</td>\n",
       "      <td>2010-12-01 08:26:00</td>\n",
       "      <td>201012</td>\n",
       "      <td>12</td>\n",
       "      <td>Wednesday</td>\n",
       "      <td>17850</td>\n",
       "      <td>85123A</td>\n",
       "      <td>white hanging heart t-light holder</td>\n",
       "      <td>2.55</td>\n",
       "      <td>6</td>\n",
       "      <td>15.30</td>\n",
       "      <td>United Kingdom</td>\n",
       "    </tr>\n",
       "    <tr>\n",
       "      <th>1</th>\n",
       "      <td>536365</td>\n",
       "      <td>2010-12-01 08:26:00</td>\n",
       "      <td>201012</td>\n",
       "      <td>12</td>\n",
       "      <td>Wednesday</td>\n",
       "      <td>17850</td>\n",
       "      <td>71053</td>\n",
       "      <td>white metal lantern</td>\n",
       "      <td>3.39</td>\n",
       "      <td>6</td>\n",
       "      <td>20.34</td>\n",
       "      <td>United Kingdom</td>\n",
       "    </tr>\n",
       "    <tr>\n",
       "      <th>2</th>\n",
       "      <td>536365</td>\n",
       "      <td>2010-12-01 08:26:00</td>\n",
       "      <td>201012</td>\n",
       "      <td>12</td>\n",
       "      <td>Wednesday</td>\n",
       "      <td>17850</td>\n",
       "      <td>84406B</td>\n",
       "      <td>cream cupid hearts coat hanger</td>\n",
       "      <td>2.75</td>\n",
       "      <td>8</td>\n",
       "      <td>22.00</td>\n",
       "      <td>United Kingdom</td>\n",
       "    </tr>\n",
       "    <tr>\n",
       "      <th>3</th>\n",
       "      <td>536365</td>\n",
       "      <td>2010-12-01 08:26:00</td>\n",
       "      <td>201012</td>\n",
       "      <td>12</td>\n",
       "      <td>Wednesday</td>\n",
       "      <td>17850</td>\n",
       "      <td>84029G</td>\n",
       "      <td>knitted union flag hot water bottle</td>\n",
       "      <td>3.39</td>\n",
       "      <td>6</td>\n",
       "      <td>20.34</td>\n",
       "      <td>United Kingdom</td>\n",
       "    </tr>\n",
       "    <tr>\n",
       "      <th>4</th>\n",
       "      <td>536365</td>\n",
       "      <td>2010-12-01 08:26:00</td>\n",
       "      <td>201012</td>\n",
       "      <td>12</td>\n",
       "      <td>Wednesday</td>\n",
       "      <td>17850</td>\n",
       "      <td>84029E</td>\n",
       "      <td>red woolly hottie white heart.</td>\n",
       "      <td>3.39</td>\n",
       "      <td>6</td>\n",
       "      <td>20.34</td>\n",
       "      <td>United Kingdom</td>\n",
       "    </tr>\n",
       "  </tbody>\n",
       "</table>\n",
       "</div>"
      ],
      "text/plain": [
       "  Invoice_No        Invoice_Date  Year_Month  Month        Day  Customer_ID  \\\n",
       "0     536365 2010-12-01 08:26:00      201012     12  Wednesday        17850   \n",
       "1     536365 2010-12-01 08:26:00      201012     12  Wednesday        17850   \n",
       "2     536365 2010-12-01 08:26:00      201012     12  Wednesday        17850   \n",
       "3     536365 2010-12-01 08:26:00      201012     12  Wednesday        17850   \n",
       "4     536365 2010-12-01 08:26:00      201012     12  Wednesday        17850   \n",
       "\n",
       "  Stock_Code                          Description  Unit_Price  Quantity  \\\n",
       "0     85123A   white hanging heart t-light holder        2.55         6   \n",
       "1      71053                  white metal lantern        3.39         6   \n",
       "2     84406B       cream cupid hearts coat hanger        2.75         8   \n",
       "3     84029G  knitted union flag hot water bottle        3.39         6   \n",
       "4     84029E       red woolly hottie white heart.        3.39         6   \n",
       "\n",
       "   Amount_Spend         country  \n",
       "0         15.30  United Kingdom  \n",
       "1         20.34  United Kingdom  \n",
       "2         22.00  United Kingdom  \n",
       "3         20.34  United Kingdom  \n",
       "4         20.34  United Kingdom  "
      ]
     },
     "execution_count": 92,
     "metadata": {},
     "output_type": "execute_result"
    }
   ],
   "source": [
    "df_new.head()"
   ]
  },
  {
   "cell_type": "code",
   "execution_count": 93,
   "id": "b358acae-f53f-4c8c-9161-e5c2f069cd48",
   "metadata": {},
   "outputs": [
    {
     "data": {
      "text/html": [
       "<div>\n",
       "<style scoped>\n",
       "    .dataframe tbody tr th:only-of-type {\n",
       "        vertical-align: middle;\n",
       "    }\n",
       "\n",
       "    .dataframe tbody tr th {\n",
       "        vertical-align: top;\n",
       "    }\n",
       "\n",
       "    .dataframe thead th {\n",
       "        text-align: right;\n",
       "    }\n",
       "</style>\n",
       "<table border=\"1\" class=\"dataframe\">\n",
       "  <thead>\n",
       "    <tr style=\"text-align: right;\">\n",
       "      <th></th>\n",
       "      <th>Invoice_No</th>\n",
       "      <th>Invoice_Date</th>\n",
       "      <th>Year_Month</th>\n",
       "      <th>Month</th>\n",
       "      <th>Day</th>\n",
       "      <th>Customer_ID</th>\n",
       "      <th>Stock_Code</th>\n",
       "      <th>Description</th>\n",
       "      <th>Unit_Price</th>\n",
       "      <th>Quantity</th>\n",
       "      <th>Amount_Spend</th>\n",
       "      <th>country</th>\n",
       "    </tr>\n",
       "  </thead>\n",
       "  <tbody>\n",
       "    <tr>\n",
       "      <th>541904</th>\n",
       "      <td>581587</td>\n",
       "      <td>2011-12-09 12:50:00</td>\n",
       "      <td>201112</td>\n",
       "      <td>12</td>\n",
       "      <td>Friday</td>\n",
       "      <td>12680</td>\n",
       "      <td>22613</td>\n",
       "      <td>pack of 20 spaceboy napkins</td>\n",
       "      <td>0.85</td>\n",
       "      <td>12</td>\n",
       "      <td>10.20</td>\n",
       "      <td>France</td>\n",
       "    </tr>\n",
       "    <tr>\n",
       "      <th>541905</th>\n",
       "      <td>581587</td>\n",
       "      <td>2011-12-09 12:50:00</td>\n",
       "      <td>201112</td>\n",
       "      <td>12</td>\n",
       "      <td>Friday</td>\n",
       "      <td>12680</td>\n",
       "      <td>22899</td>\n",
       "      <td>children's apron dolly girl</td>\n",
       "      <td>2.10</td>\n",
       "      <td>6</td>\n",
       "      <td>12.60</td>\n",
       "      <td>France</td>\n",
       "    </tr>\n",
       "    <tr>\n",
       "      <th>541906</th>\n",
       "      <td>581587</td>\n",
       "      <td>2011-12-09 12:50:00</td>\n",
       "      <td>201112</td>\n",
       "      <td>12</td>\n",
       "      <td>Friday</td>\n",
       "      <td>12680</td>\n",
       "      <td>23254</td>\n",
       "      <td>childrens cutlery dolly girl</td>\n",
       "      <td>4.15</td>\n",
       "      <td>4</td>\n",
       "      <td>16.60</td>\n",
       "      <td>France</td>\n",
       "    </tr>\n",
       "    <tr>\n",
       "      <th>541907</th>\n",
       "      <td>581587</td>\n",
       "      <td>2011-12-09 12:50:00</td>\n",
       "      <td>201112</td>\n",
       "      <td>12</td>\n",
       "      <td>Friday</td>\n",
       "      <td>12680</td>\n",
       "      <td>23255</td>\n",
       "      <td>childrens cutlery circus parade</td>\n",
       "      <td>4.15</td>\n",
       "      <td>4</td>\n",
       "      <td>16.60</td>\n",
       "      <td>France</td>\n",
       "    </tr>\n",
       "    <tr>\n",
       "      <th>541908</th>\n",
       "      <td>581587</td>\n",
       "      <td>2011-12-09 12:50:00</td>\n",
       "      <td>201112</td>\n",
       "      <td>12</td>\n",
       "      <td>Friday</td>\n",
       "      <td>12680</td>\n",
       "      <td>22138</td>\n",
       "      <td>baking set 9 piece retrospot</td>\n",
       "      <td>4.95</td>\n",
       "      <td>3</td>\n",
       "      <td>14.85</td>\n",
       "      <td>France</td>\n",
       "    </tr>\n",
       "  </tbody>\n",
       "</table>\n",
       "</div>"
      ],
      "text/plain": [
       "       Invoice_No        Invoice_Date  Year_Month  Month     Day  Customer_ID  \\\n",
       "541904     581587 2011-12-09 12:50:00      201112     12  Friday        12680   \n",
       "541905     581587 2011-12-09 12:50:00      201112     12  Friday        12680   \n",
       "541906     581587 2011-12-09 12:50:00      201112     12  Friday        12680   \n",
       "541907     581587 2011-12-09 12:50:00      201112     12  Friday        12680   \n",
       "541908     581587 2011-12-09 12:50:00      201112     12  Friday        12680   \n",
       "\n",
       "       Stock_Code                      Description  Unit_Price  Quantity  \\\n",
       "541904      22613      pack of 20 spaceboy napkins        0.85        12   \n",
       "541905      22899     children's apron dolly girl         2.10         6   \n",
       "541906      23254    childrens cutlery dolly girl         4.15         4   \n",
       "541907      23255  childrens cutlery circus parade        4.15         4   \n",
       "541908      22138    baking set 9 piece retrospot         4.95         3   \n",
       "\n",
       "        Amount_Spend country  \n",
       "541904         10.20  France  \n",
       "541905         12.60  France  \n",
       "541906         16.60  France  \n",
       "541907         16.60  France  \n",
       "541908         14.85  France  "
      ]
     },
     "execution_count": 93,
     "metadata": {},
     "output_type": "execute_result"
    }
   ],
   "source": [
    "df_new.tail()"
   ]
  },
  {
   "cell_type": "markdown",
   "id": "073d8c4d-6b27-4437-9e3c-0e5a4290f1de",
   "metadata": {},
   "source": [
    "# Adding Hour from Invoice_Date"
   ]
  },
  {
   "cell_type": "code",
   "execution_count": 95,
   "id": "cd2dc57a-78e5-4427-8495-1e0b92139327",
   "metadata": {},
   "outputs": [],
   "source": [
    "h1 = df_new[\"Invoice_Date\"].dt.hour"
   ]
  },
  {
   "cell_type": "code",
   "execution_count": 96,
   "id": "b9ff4d64-d92f-4bdf-9dd2-a2692b153c50",
   "metadata": {},
   "outputs": [],
   "source": [
    "df_new.insert(loc = 5,column = \"Hour\",value = h1)"
   ]
  },
  {
   "cell_type": "code",
   "execution_count": 97,
   "id": "668f9efd-1538-4500-9523-e5d753870e7c",
   "metadata": {},
   "outputs": [
    {
     "data": {
      "text/html": [
       "<div>\n",
       "<style scoped>\n",
       "    .dataframe tbody tr th:only-of-type {\n",
       "        vertical-align: middle;\n",
       "    }\n",
       "\n",
       "    .dataframe tbody tr th {\n",
       "        vertical-align: top;\n",
       "    }\n",
       "\n",
       "    .dataframe thead th {\n",
       "        text-align: right;\n",
       "    }\n",
       "</style>\n",
       "<table border=\"1\" class=\"dataframe\">\n",
       "  <thead>\n",
       "    <tr style=\"text-align: right;\">\n",
       "      <th></th>\n",
       "      <th>Invoice_No</th>\n",
       "      <th>Invoice_Date</th>\n",
       "      <th>Year_Month</th>\n",
       "      <th>Month</th>\n",
       "      <th>Day</th>\n",
       "      <th>Hour</th>\n",
       "      <th>Customer_ID</th>\n",
       "      <th>Stock_Code</th>\n",
       "      <th>Description</th>\n",
       "      <th>Unit_Price</th>\n",
       "      <th>Quantity</th>\n",
       "      <th>Amount_Spend</th>\n",
       "      <th>country</th>\n",
       "    </tr>\n",
       "  </thead>\n",
       "  <tbody>\n",
       "    <tr>\n",
       "      <th>0</th>\n",
       "      <td>536365</td>\n",
       "      <td>2010-12-01 08:26:00</td>\n",
       "      <td>201012</td>\n",
       "      <td>12</td>\n",
       "      <td>Wednesday</td>\n",
       "      <td>8</td>\n",
       "      <td>17850</td>\n",
       "      <td>85123A</td>\n",
       "      <td>white hanging heart t-light holder</td>\n",
       "      <td>2.55</td>\n",
       "      <td>6</td>\n",
       "      <td>15.30</td>\n",
       "      <td>United Kingdom</td>\n",
       "    </tr>\n",
       "    <tr>\n",
       "      <th>1</th>\n",
       "      <td>536365</td>\n",
       "      <td>2010-12-01 08:26:00</td>\n",
       "      <td>201012</td>\n",
       "      <td>12</td>\n",
       "      <td>Wednesday</td>\n",
       "      <td>8</td>\n",
       "      <td>17850</td>\n",
       "      <td>71053</td>\n",
       "      <td>white metal lantern</td>\n",
       "      <td>3.39</td>\n",
       "      <td>6</td>\n",
       "      <td>20.34</td>\n",
       "      <td>United Kingdom</td>\n",
       "    </tr>\n",
       "    <tr>\n",
       "      <th>2</th>\n",
       "      <td>536365</td>\n",
       "      <td>2010-12-01 08:26:00</td>\n",
       "      <td>201012</td>\n",
       "      <td>12</td>\n",
       "      <td>Wednesday</td>\n",
       "      <td>8</td>\n",
       "      <td>17850</td>\n",
       "      <td>84406B</td>\n",
       "      <td>cream cupid hearts coat hanger</td>\n",
       "      <td>2.75</td>\n",
       "      <td>8</td>\n",
       "      <td>22.00</td>\n",
       "      <td>United Kingdom</td>\n",
       "    </tr>\n",
       "    <tr>\n",
       "      <th>3</th>\n",
       "      <td>536365</td>\n",
       "      <td>2010-12-01 08:26:00</td>\n",
       "      <td>201012</td>\n",
       "      <td>12</td>\n",
       "      <td>Wednesday</td>\n",
       "      <td>8</td>\n",
       "      <td>17850</td>\n",
       "      <td>84029G</td>\n",
       "      <td>knitted union flag hot water bottle</td>\n",
       "      <td>3.39</td>\n",
       "      <td>6</td>\n",
       "      <td>20.34</td>\n",
       "      <td>United Kingdom</td>\n",
       "    </tr>\n",
       "    <tr>\n",
       "      <th>4</th>\n",
       "      <td>536365</td>\n",
       "      <td>2010-12-01 08:26:00</td>\n",
       "      <td>201012</td>\n",
       "      <td>12</td>\n",
       "      <td>Wednesday</td>\n",
       "      <td>8</td>\n",
       "      <td>17850</td>\n",
       "      <td>84029E</td>\n",
       "      <td>red woolly hottie white heart.</td>\n",
       "      <td>3.39</td>\n",
       "      <td>6</td>\n",
       "      <td>20.34</td>\n",
       "      <td>United Kingdom</td>\n",
       "    </tr>\n",
       "  </tbody>\n",
       "</table>\n",
       "</div>"
      ],
      "text/plain": [
       "  Invoice_No        Invoice_Date  Year_Month  Month        Day  Hour  \\\n",
       "0     536365 2010-12-01 08:26:00      201012     12  Wednesday     8   \n",
       "1     536365 2010-12-01 08:26:00      201012     12  Wednesday     8   \n",
       "2     536365 2010-12-01 08:26:00      201012     12  Wednesday     8   \n",
       "3     536365 2010-12-01 08:26:00      201012     12  Wednesday     8   \n",
       "4     536365 2010-12-01 08:26:00      201012     12  Wednesday     8   \n",
       "\n",
       "   Customer_ID Stock_Code                          Description  Unit_Price  \\\n",
       "0        17850     85123A   white hanging heart t-light holder        2.55   \n",
       "1        17850      71053                  white metal lantern        3.39   \n",
       "2        17850     84406B       cream cupid hearts coat hanger        2.75   \n",
       "3        17850     84029G  knitted union flag hot water bottle        3.39   \n",
       "4        17850     84029E       red woolly hottie white heart.        3.39   \n",
       "\n",
       "   Quantity  Amount_Spend         country  \n",
       "0         6         15.30  United Kingdom  \n",
       "1         6         20.34  United Kingdom  \n",
       "2         8         22.00  United Kingdom  \n",
       "3         6         20.34  United Kingdom  \n",
       "4         6         20.34  United Kingdom  "
      ]
     },
     "execution_count": 97,
     "metadata": {},
     "output_type": "execute_result"
    }
   ],
   "source": [
    "df_new.head()"
   ]
  },
  {
   "cell_type": "markdown",
   "id": "27aea2bb-47fe-40af-9b59-309a96906b8a",
   "metadata": {},
   "source": [
    "# Checking columns"
   ]
  },
  {
   "cell_type": "code",
   "execution_count": 99,
   "id": "7e8512f1-cccf-4f94-8827-b73cf15bb5e6",
   "metadata": {},
   "outputs": [
    {
     "data": {
      "text/plain": [
       "13"
      ]
     },
     "execution_count": 99,
     "metadata": {},
     "output_type": "execute_result"
    }
   ],
   "source": [
    "len(df_new.columns)"
   ]
  },
  {
   "cell_type": "code",
   "execution_count": 100,
   "id": "a8160aff-3b50-424e-9315-f16d502e9dbe",
   "metadata": {},
   "outputs": [
    {
     "data": {
      "text/plain": [
       "['Invoice_No',\n",
       " 'Invoice_Date',\n",
       " 'Year_Month',\n",
       " 'Month',\n",
       " 'Day',\n",
       " 'Hour',\n",
       " 'Customer_ID',\n",
       " 'Stock_Code',\n",
       " 'Description',\n",
       " 'Unit_Price',\n",
       " 'Quantity',\n",
       " 'Amount_Spend',\n",
       " 'country']"
      ]
     },
     "execution_count": 100,
     "metadata": {},
     "output_type": "execute_result"
    }
   ],
   "source": [
    "df_new.columns.to_list()"
   ]
  },
  {
   "cell_type": "code",
   "execution_count": 101,
   "id": "13f5203f-50a3-4f6e-85d2-86e35d7f3075",
   "metadata": {},
   "outputs": [
    {
     "data": {
      "text/html": [
       "<div>\n",
       "<style scoped>\n",
       "    .dataframe tbody tr th:only-of-type {\n",
       "        vertical-align: middle;\n",
       "    }\n",
       "\n",
       "    .dataframe tbody tr th {\n",
       "        vertical-align: top;\n",
       "    }\n",
       "\n",
       "    .dataframe thead th {\n",
       "        text-align: right;\n",
       "    }\n",
       "</style>\n",
       "<table border=\"1\" class=\"dataframe\">\n",
       "  <thead>\n",
       "    <tr style=\"text-align: right;\">\n",
       "      <th></th>\n",
       "      <th>Invoice_No</th>\n",
       "      <th>Invoice_Date</th>\n",
       "      <th>Year_Month</th>\n",
       "      <th>Month</th>\n",
       "      <th>Day</th>\n",
       "      <th>Hour</th>\n",
       "      <th>Customer_ID</th>\n",
       "      <th>Stock_Code</th>\n",
       "      <th>Description</th>\n",
       "      <th>Unit_Price</th>\n",
       "      <th>Quantity</th>\n",
       "      <th>Amount_Spend</th>\n",
       "      <th>country</th>\n",
       "    </tr>\n",
       "  </thead>\n",
       "  <tbody>\n",
       "    <tr>\n",
       "      <th>0</th>\n",
       "      <td>536365</td>\n",
       "      <td>2010-12-01 08:26:00</td>\n",
       "      <td>201012</td>\n",
       "      <td>12</td>\n",
       "      <td>Wednesday</td>\n",
       "      <td>8</td>\n",
       "      <td>17850</td>\n",
       "      <td>85123A</td>\n",
       "      <td>white hanging heart t-light holder</td>\n",
       "      <td>2.55</td>\n",
       "      <td>6</td>\n",
       "      <td>15.30</td>\n",
       "      <td>United Kingdom</td>\n",
       "    </tr>\n",
       "    <tr>\n",
       "      <th>1</th>\n",
       "      <td>536365</td>\n",
       "      <td>2010-12-01 08:26:00</td>\n",
       "      <td>201012</td>\n",
       "      <td>12</td>\n",
       "      <td>Wednesday</td>\n",
       "      <td>8</td>\n",
       "      <td>17850</td>\n",
       "      <td>71053</td>\n",
       "      <td>white metal lantern</td>\n",
       "      <td>3.39</td>\n",
       "      <td>6</td>\n",
       "      <td>20.34</td>\n",
       "      <td>United Kingdom</td>\n",
       "    </tr>\n",
       "  </tbody>\n",
       "</table>\n",
       "</div>"
      ],
      "text/plain": [
       "  Invoice_No        Invoice_Date  Year_Month  Month        Day  Hour  \\\n",
       "0     536365 2010-12-01 08:26:00      201012     12  Wednesday     8   \n",
       "1     536365 2010-12-01 08:26:00      201012     12  Wednesday     8   \n",
       "\n",
       "   Customer_ID Stock_Code                         Description  Unit_Price  \\\n",
       "0        17850     85123A  white hanging heart t-light holder        2.55   \n",
       "1        17850      71053                 white metal lantern        3.39   \n",
       "\n",
       "   Quantity  Amount_Spend         country  \n",
       "0         6         15.30  United Kingdom  \n",
       "1         6         20.34  United Kingdom  "
      ]
     },
     "execution_count": 101,
     "metadata": {},
     "output_type": "execute_result"
    }
   ],
   "source": [
    "df_new.head(2)"
   ]
  },
  {
   "cell_type": "markdown",
   "id": "42f5d6a7-2880-459b-adc2-6b6d8e65116d",
   "metadata": {},
   "source": [
    "# Exploratory Data Analysis (EDA)"
   ]
  },
  {
   "cell_type": "code",
   "execution_count": 103,
   "id": "715a3925-da17-49c7-b328-d58d354510ed",
   "metadata": {},
   "outputs": [
    {
     "data": {
      "text/plain": [
       "Customer_ID  country       \n",
       "17841        United Kingdom    7847\n",
       "14911        EIRE              5677\n",
       "14096        United Kingdom    5111\n",
       "12748        United Kingdom    4596\n",
       "14606        United Kingdom    2700\n",
       "                               ... \n",
       "13135        United Kingdom       1\n",
       "13185        United Kingdom       1\n",
       "17763        United Kingdom       1\n",
       "17752        United Kingdom       1\n",
       "12346        United Kingdom       1\n",
       "Name: Invoice_No, Length: 4347, dtype: int64"
      ]
     },
     "execution_count": 103,
     "metadata": {},
     "output_type": "execute_result"
    }
   ],
   "source": [
    "df_new.groupby([\"Customer_ID\",\"country\"])[\"Invoice_No\"].count().sort_values(ascending = False)"
   ]
  },
  {
   "cell_type": "code",
   "execution_count": 104,
   "id": "67893f89-43fc-4e38-a3a9-9a655e9191b2",
   "metadata": {},
   "outputs": [
    {
     "data": {
      "text/html": [
       "<div>\n",
       "<style scoped>\n",
       "    .dataframe tbody tr th:only-of-type {\n",
       "        vertical-align: middle;\n",
       "    }\n",
       "\n",
       "    .dataframe tbody tr th {\n",
       "        vertical-align: top;\n",
       "    }\n",
       "\n",
       "    .dataframe thead th {\n",
       "        text-align: right;\n",
       "    }\n",
       "</style>\n",
       "<table border=\"1\" class=\"dataframe\">\n",
       "  <thead>\n",
       "    <tr style=\"text-align: right;\">\n",
       "      <th></th>\n",
       "      <th>Customer_ID</th>\n",
       "      <th>country</th>\n",
       "      <th>Invoice_No</th>\n",
       "    </tr>\n",
       "  </thead>\n",
       "  <tbody>\n",
       "    <tr>\n",
       "      <th>0</th>\n",
       "      <td>12346</td>\n",
       "      <td>United Kingdom</td>\n",
       "      <td>1</td>\n",
       "    </tr>\n",
       "    <tr>\n",
       "      <th>1</th>\n",
       "      <td>12347</td>\n",
       "      <td>Iceland</td>\n",
       "      <td>182</td>\n",
       "    </tr>\n",
       "    <tr>\n",
       "      <th>2</th>\n",
       "      <td>12348</td>\n",
       "      <td>Finland</td>\n",
       "      <td>31</td>\n",
       "    </tr>\n",
       "    <tr>\n",
       "      <th>3</th>\n",
       "      <td>12349</td>\n",
       "      <td>Italy</td>\n",
       "      <td>73</td>\n",
       "    </tr>\n",
       "    <tr>\n",
       "      <th>4</th>\n",
       "      <td>12350</td>\n",
       "      <td>Norway</td>\n",
       "      <td>17</td>\n",
       "    </tr>\n",
       "    <tr>\n",
       "      <th>...</th>\n",
       "      <td>...</td>\n",
       "      <td>...</td>\n",
       "      <td>...</td>\n",
       "    </tr>\n",
       "    <tr>\n",
       "      <th>4342</th>\n",
       "      <td>18280</td>\n",
       "      <td>United Kingdom</td>\n",
       "      <td>10</td>\n",
       "    </tr>\n",
       "    <tr>\n",
       "      <th>4343</th>\n",
       "      <td>18281</td>\n",
       "      <td>United Kingdom</td>\n",
       "      <td>7</td>\n",
       "    </tr>\n",
       "    <tr>\n",
       "      <th>4344</th>\n",
       "      <td>18282</td>\n",
       "      <td>United Kingdom</td>\n",
       "      <td>12</td>\n",
       "    </tr>\n",
       "    <tr>\n",
       "      <th>4345</th>\n",
       "      <td>18283</td>\n",
       "      <td>United Kingdom</td>\n",
       "      <td>756</td>\n",
       "    </tr>\n",
       "    <tr>\n",
       "      <th>4346</th>\n",
       "      <td>18287</td>\n",
       "      <td>United Kingdom</td>\n",
       "      <td>70</td>\n",
       "    </tr>\n",
       "  </tbody>\n",
       "</table>\n",
       "<p>4347 rows × 3 columns</p>\n",
       "</div>"
      ],
      "text/plain": [
       "      Customer_ID         country  Invoice_No\n",
       "0           12346  United Kingdom           1\n",
       "1           12347         Iceland         182\n",
       "2           12348         Finland          31\n",
       "3           12349           Italy          73\n",
       "4           12350          Norway          17\n",
       "...           ...             ...         ...\n",
       "4342        18280  United Kingdom          10\n",
       "4343        18281  United Kingdom           7\n",
       "4344        18282  United Kingdom          12\n",
       "4345        18283  United Kingdom         756\n",
       "4346        18287  United Kingdom          70\n",
       "\n",
       "[4347 rows x 3 columns]"
      ]
     },
     "execution_count": 104,
     "metadata": {},
     "output_type": "execute_result"
    }
   ],
   "source": [
    "df_new.groupby([\"Customer_ID\",\"country\"],as_index = False)[\"Invoice_No\"].count()"
   ]
  },
  {
   "cell_type": "code",
   "execution_count": 105,
   "id": "79bb9540-c9d2-4fdc-aacc-2ec162a1b033",
   "metadata": {},
   "outputs": [
    {
     "data": {
      "text/html": [
       "<div>\n",
       "<style scoped>\n",
       "    .dataframe tbody tr th:only-of-type {\n",
       "        vertical-align: middle;\n",
       "    }\n",
       "\n",
       "    .dataframe tbody tr th {\n",
       "        vertical-align: top;\n",
       "    }\n",
       "\n",
       "    .dataframe thead th {\n",
       "        text-align: right;\n",
       "    }\n",
       "</style>\n",
       "<table border=\"1\" class=\"dataframe\">\n",
       "  <thead>\n",
       "    <tr style=\"text-align: right;\">\n",
       "      <th></th>\n",
       "      <th>Customer_ID</th>\n",
       "      <th>country</th>\n",
       "      <th>Invoice_No</th>\n",
       "    </tr>\n",
       "  </thead>\n",
       "  <tbody>\n",
       "    <tr>\n",
       "      <th>4019</th>\n",
       "      <td>17841</td>\n",
       "      <td>United Kingdom</td>\n",
       "      <td>7847</td>\n",
       "    </tr>\n",
       "    <tr>\n",
       "      <th>1888</th>\n",
       "      <td>14911</td>\n",
       "      <td>EIRE</td>\n",
       "      <td>5677</td>\n",
       "    </tr>\n",
       "    <tr>\n",
       "      <th>1298</th>\n",
       "      <td>14096</td>\n",
       "      <td>United Kingdom</td>\n",
       "      <td>5111</td>\n",
       "    </tr>\n",
       "    <tr>\n",
       "      <th>334</th>\n",
       "      <td>12748</td>\n",
       "      <td>United Kingdom</td>\n",
       "      <td>4596</td>\n",
       "    </tr>\n",
       "    <tr>\n",
       "      <th>1670</th>\n",
       "      <td>14606</td>\n",
       "      <td>United Kingdom</td>\n",
       "      <td>2700</td>\n",
       "    </tr>\n",
       "    <tr>\n",
       "      <th>...</th>\n",
       "      <td>...</td>\n",
       "      <td>...</td>\n",
       "      <td>...</td>\n",
       "    </tr>\n",
       "    <tr>\n",
       "      <th>605</th>\n",
       "      <td>13135</td>\n",
       "      <td>United Kingdom</td>\n",
       "      <td>1</td>\n",
       "    </tr>\n",
       "    <tr>\n",
       "      <th>643</th>\n",
       "      <td>13185</td>\n",
       "      <td>United Kingdom</td>\n",
       "      <td>1</td>\n",
       "    </tr>\n",
       "    <tr>\n",
       "      <th>3969</th>\n",
       "      <td>17763</td>\n",
       "      <td>United Kingdom</td>\n",
       "      <td>1</td>\n",
       "    </tr>\n",
       "    <tr>\n",
       "      <th>3962</th>\n",
       "      <td>17752</td>\n",
       "      <td>United Kingdom</td>\n",
       "      <td>1</td>\n",
       "    </tr>\n",
       "    <tr>\n",
       "      <th>0</th>\n",
       "      <td>12346</td>\n",
       "      <td>United Kingdom</td>\n",
       "      <td>1</td>\n",
       "    </tr>\n",
       "  </tbody>\n",
       "</table>\n",
       "<p>4347 rows × 3 columns</p>\n",
       "</div>"
      ],
      "text/plain": [
       "      Customer_ID         country  Invoice_No\n",
       "4019        17841  United Kingdom        7847\n",
       "1888        14911            EIRE        5677\n",
       "1298        14096  United Kingdom        5111\n",
       "334         12748  United Kingdom        4596\n",
       "1670        14606  United Kingdom        2700\n",
       "...           ...             ...         ...\n",
       "605         13135  United Kingdom           1\n",
       "643         13185  United Kingdom           1\n",
       "3969        17763  United Kingdom           1\n",
       "3962        17752  United Kingdom           1\n",
       "0           12346  United Kingdom           1\n",
       "\n",
       "[4347 rows x 3 columns]"
      ]
     },
     "execution_count": 105,
     "metadata": {},
     "output_type": "execute_result"
    }
   ],
   "source": [
    "df_new.groupby([\"Customer_ID\",\"country\"],as_index = False)[\"Invoice_No\"].count().sort_values(by = \"Invoice_No\",ascending = False)"
   ]
  },
  {
   "cell_type": "code",
   "execution_count": 106,
   "id": "95b96689-7dd0-458c-9cdb-0dd4dc99483f",
   "metadata": {},
   "outputs": [
    {
     "data": {
      "text/html": [
       "<div>\n",
       "<style scoped>\n",
       "    .dataframe tbody tr th:only-of-type {\n",
       "        vertical-align: middle;\n",
       "    }\n",
       "\n",
       "    .dataframe tbody tr th {\n",
       "        vertical-align: top;\n",
       "    }\n",
       "\n",
       "    .dataframe thead th {\n",
       "        text-align: right;\n",
       "    }\n",
       "</style>\n",
       "<table border=\"1\" class=\"dataframe\">\n",
       "  <thead>\n",
       "    <tr style=\"text-align: right;\">\n",
       "      <th></th>\n",
       "      <th>Customer_ID</th>\n",
       "      <th>country</th>\n",
       "      <th>Invoice_No</th>\n",
       "    </tr>\n",
       "  </thead>\n",
       "  <tbody>\n",
       "    <tr>\n",
       "      <th>4019</th>\n",
       "      <td>17841</td>\n",
       "      <td>United Kingdom</td>\n",
       "      <td>7847</td>\n",
       "    </tr>\n",
       "    <tr>\n",
       "      <th>1888</th>\n",
       "      <td>14911</td>\n",
       "      <td>EIRE</td>\n",
       "      <td>5677</td>\n",
       "    </tr>\n",
       "    <tr>\n",
       "      <th>1298</th>\n",
       "      <td>14096</td>\n",
       "      <td>United Kingdom</td>\n",
       "      <td>5111</td>\n",
       "    </tr>\n",
       "    <tr>\n",
       "      <th>334</th>\n",
       "      <td>12748</td>\n",
       "      <td>United Kingdom</td>\n",
       "      <td>4596</td>\n",
       "    </tr>\n",
       "    <tr>\n",
       "      <th>1670</th>\n",
       "      <td>14606</td>\n",
       "      <td>United Kingdom</td>\n",
       "      <td>2700</td>\n",
       "    </tr>\n",
       "  </tbody>\n",
       "</table>\n",
       "</div>"
      ],
      "text/plain": [
       "      Customer_ID         country  Invoice_No\n",
       "4019        17841  United Kingdom        7847\n",
       "1888        14911            EIRE        5677\n",
       "1298        14096  United Kingdom        5111\n",
       "334         12748  United Kingdom        4596\n",
       "1670        14606  United Kingdom        2700"
      ]
     },
     "execution_count": 106,
     "metadata": {},
     "output_type": "execute_result"
    }
   ],
   "source": [
    "df_new.groupby(by = [\"Customer_ID\",\"country\"],as_index = False)[\"Invoice_No\"].count().sort_values(by = \"Invoice_No\",ascending = False).head()"
   ]
  },
  {
   "cell_type": "markdown",
   "id": "f8a58b9b-2c8d-440b-8993-f4f4617a3374",
   "metadata": {},
   "source": [
    "# # Data Visaulization libraries"
   ]
  },
  {
   "cell_type": "code",
   "execution_count": 108,
   "id": "e3e06d3e-83f8-4cdd-99f1-156f4c5eeaaa",
   "metadata": {},
   "outputs": [],
   "source": [
    "import matplotlib.pyplot as plt\n",
    "import seaborn as sns "
   ]
  },
  {
   "cell_type": "code",
   "execution_count": 109,
   "id": "54bd62fb-c6ea-4923-800c-7eedbf2e3e39",
   "metadata": {},
   "outputs": [],
   "source": [
    "orders = df_new.groupby([\"Customer_ID\",\"country\"],as_index = False)[\"Invoice_No\"].count()"
   ]
  },
  {
   "cell_type": "code",
   "execution_count": 110,
   "id": "ed2dc3d0-7161-49a7-8b22-20032f7718fc",
   "metadata": {},
   "outputs": [
    {
     "data": {
      "text/html": [
       "<div>\n",
       "<style scoped>\n",
       "    .dataframe tbody tr th:only-of-type {\n",
       "        vertical-align: middle;\n",
       "    }\n",
       "\n",
       "    .dataframe tbody tr th {\n",
       "        vertical-align: top;\n",
       "    }\n",
       "\n",
       "    .dataframe thead th {\n",
       "        text-align: right;\n",
       "    }\n",
       "</style>\n",
       "<table border=\"1\" class=\"dataframe\">\n",
       "  <thead>\n",
       "    <tr style=\"text-align: right;\">\n",
       "      <th></th>\n",
       "      <th>Customer_ID</th>\n",
       "      <th>country</th>\n",
       "      <th>Invoice_No</th>\n",
       "    </tr>\n",
       "  </thead>\n",
       "  <tbody>\n",
       "    <tr>\n",
       "      <th>0</th>\n",
       "      <td>12346</td>\n",
       "      <td>United Kingdom</td>\n",
       "      <td>1</td>\n",
       "    </tr>\n",
       "    <tr>\n",
       "      <th>1</th>\n",
       "      <td>12347</td>\n",
       "      <td>Iceland</td>\n",
       "      <td>182</td>\n",
       "    </tr>\n",
       "    <tr>\n",
       "      <th>2</th>\n",
       "      <td>12348</td>\n",
       "      <td>Finland</td>\n",
       "      <td>31</td>\n",
       "    </tr>\n",
       "    <tr>\n",
       "      <th>3</th>\n",
       "      <td>12349</td>\n",
       "      <td>Italy</td>\n",
       "      <td>73</td>\n",
       "    </tr>\n",
       "    <tr>\n",
       "      <th>4</th>\n",
       "      <td>12350</td>\n",
       "      <td>Norway</td>\n",
       "      <td>17</td>\n",
       "    </tr>\n",
       "    <tr>\n",
       "      <th>...</th>\n",
       "      <td>...</td>\n",
       "      <td>...</td>\n",
       "      <td>...</td>\n",
       "    </tr>\n",
       "    <tr>\n",
       "      <th>4342</th>\n",
       "      <td>18280</td>\n",
       "      <td>United Kingdom</td>\n",
       "      <td>10</td>\n",
       "    </tr>\n",
       "    <tr>\n",
       "      <th>4343</th>\n",
       "      <td>18281</td>\n",
       "      <td>United Kingdom</td>\n",
       "      <td>7</td>\n",
       "    </tr>\n",
       "    <tr>\n",
       "      <th>4344</th>\n",
       "      <td>18282</td>\n",
       "      <td>United Kingdom</td>\n",
       "      <td>12</td>\n",
       "    </tr>\n",
       "    <tr>\n",
       "      <th>4345</th>\n",
       "      <td>18283</td>\n",
       "      <td>United Kingdom</td>\n",
       "      <td>756</td>\n",
       "    </tr>\n",
       "    <tr>\n",
       "      <th>4346</th>\n",
       "      <td>18287</td>\n",
       "      <td>United Kingdom</td>\n",
       "      <td>70</td>\n",
       "    </tr>\n",
       "  </tbody>\n",
       "</table>\n",
       "<p>4347 rows × 3 columns</p>\n",
       "</div>"
      ],
      "text/plain": [
       "      Customer_ID         country  Invoice_No\n",
       "0           12346  United Kingdom           1\n",
       "1           12347         Iceland         182\n",
       "2           12348         Finland          31\n",
       "3           12349           Italy          73\n",
       "4           12350          Norway          17\n",
       "...           ...             ...         ...\n",
       "4342        18280  United Kingdom          10\n",
       "4343        18281  United Kingdom           7\n",
       "4344        18282  United Kingdom          12\n",
       "4345        18283  United Kingdom         756\n",
       "4346        18287  United Kingdom          70\n",
       "\n",
       "[4347 rows x 3 columns]"
      ]
     },
     "execution_count": 110,
     "metadata": {},
     "output_type": "execute_result"
    }
   ],
   "source": [
    "orders"
   ]
  },
  {
   "cell_type": "markdown",
   "id": "e9681413-e2ea-46db-88f7-a09140f06987",
   "metadata": {},
   "source": [
    "# Visualizing - Number of Orders for different Customers"
   ]
  },
  {
   "cell_type": "code",
   "execution_count": 112,
   "id": "f694ec49-1cde-4001-a680-15e2bb266777",
   "metadata": {},
   "outputs": [
    {
     "data": {
      "image/png": "[encoded data removed]",
      "text/plain": [
       "<Figure size 1500x600 with 1 Axes>"
      ]
     },
     "metadata": {},
     "output_type": "display_data"
    }
   ],
   "source": [
    "orders = df_new.groupby([\"Customer_ID\", \"country\"], as_index=False)[\"Invoice_No\"].count()\n",
    "\n",
    "plt.subplots(figsize=(15, 6))\n",
    "\n",
    "plt.plot(orders[\"Customer_ID\"], orders[\"Invoice_No\"])\n",
    "\n",
    "plt.xlabel(\"Customers ID\")\n",
    "plt.ylabel(\"Number of Orders\")\n",
    "plt.title(\"Number of Orders for Different Customers\")\n",
    "\n",
    "plt.show()"
   ]
  },
  {
   "cell_type": "markdown",
   "id": "cb559ef0-1760-48fe-89f8-ef87a107827c",
   "metadata": {},
   "source": [
    "# How much money spent by each customers?"
   ]
  },
  {
   "cell_type": "code",
   "execution_count": 114,
   "id": "6878cdc1-305c-4ba7-bf3d-9901abb5fde5",
   "metadata": {},
   "outputs": [],
   "source": [
    "money_spent = df_new.groupby([\"Customer_ID\",\"country\"],as_index = False)[\"Amount_Spend\"].sum()"
   ]
  },
  {
   "cell_type": "code",
   "execution_count": 115,
   "id": "86922ef4-3b83-47a9-bf2c-850b8bd132a3",
   "metadata": {},
   "outputs": [
    {
     "data": {
      "text/html": [
       "<div>\n",
       "<style scoped>\n",
       "    .dataframe tbody tr th:only-of-type {\n",
       "        vertical-align: middle;\n",
       "    }\n",
       "\n",
       "    .dataframe tbody tr th {\n",
       "        vertical-align: top;\n",
       "    }\n",
       "\n",
       "    .dataframe thead th {\n",
       "        text-align: right;\n",
       "    }\n",
       "</style>\n",
       "<table border=\"1\" class=\"dataframe\">\n",
       "  <thead>\n",
       "    <tr style=\"text-align: right;\">\n",
       "      <th></th>\n",
       "      <th>Customer_ID</th>\n",
       "      <th>country</th>\n",
       "      <th>Amount_Spend</th>\n",
       "    </tr>\n",
       "  </thead>\n",
       "  <tbody>\n",
       "    <tr>\n",
       "      <th>0</th>\n",
       "      <td>12346</td>\n",
       "      <td>United Kingdom</td>\n",
       "      <td>77183.60</td>\n",
       "    </tr>\n",
       "    <tr>\n",
       "      <th>1</th>\n",
       "      <td>12347</td>\n",
       "      <td>Iceland</td>\n",
       "      <td>4310.00</td>\n",
       "    </tr>\n",
       "    <tr>\n",
       "      <th>2</th>\n",
       "      <td>12348</td>\n",
       "      <td>Finland</td>\n",
       "      <td>1797.24</td>\n",
       "    </tr>\n",
       "    <tr>\n",
       "      <th>3</th>\n",
       "      <td>12349</td>\n",
       "      <td>Italy</td>\n",
       "      <td>1757.55</td>\n",
       "    </tr>\n",
       "    <tr>\n",
       "      <th>4</th>\n",
       "      <td>12350</td>\n",
       "      <td>Norway</td>\n",
       "      <td>334.40</td>\n",
       "    </tr>\n",
       "    <tr>\n",
       "      <th>...</th>\n",
       "      <td>...</td>\n",
       "      <td>...</td>\n",
       "      <td>...</td>\n",
       "    </tr>\n",
       "    <tr>\n",
       "      <th>4342</th>\n",
       "      <td>18280</td>\n",
       "      <td>United Kingdom</td>\n",
       "      <td>180.60</td>\n",
       "    </tr>\n",
       "    <tr>\n",
       "      <th>4343</th>\n",
       "      <td>18281</td>\n",
       "      <td>United Kingdom</td>\n",
       "      <td>80.82</td>\n",
       "    </tr>\n",
       "    <tr>\n",
       "      <th>4344</th>\n",
       "      <td>18282</td>\n",
       "      <td>United Kingdom</td>\n",
       "      <td>178.05</td>\n",
       "    </tr>\n",
       "    <tr>\n",
       "      <th>4345</th>\n",
       "      <td>18283</td>\n",
       "      <td>United Kingdom</td>\n",
       "      <td>2094.88</td>\n",
       "    </tr>\n",
       "    <tr>\n",
       "      <th>4346</th>\n",
       "      <td>18287</td>\n",
       "      <td>United Kingdom</td>\n",
       "      <td>1837.28</td>\n",
       "    </tr>\n",
       "  </tbody>\n",
       "</table>\n",
       "<p>4347 rows × 3 columns</p>\n",
       "</div>"
      ],
      "text/plain": [
       "      Customer_ID         country  Amount_Spend\n",
       "0           12346  United Kingdom      77183.60\n",
       "1           12347         Iceland       4310.00\n",
       "2           12348         Finland       1797.24\n",
       "3           12349           Italy       1757.55\n",
       "4           12350          Norway        334.40\n",
       "...           ...             ...           ...\n",
       "4342        18280  United Kingdom        180.60\n",
       "4343        18281  United Kingdom         80.82\n",
       "4344        18282  United Kingdom        178.05\n",
       "4345        18283  United Kingdom       2094.88\n",
       "4346        18287  United Kingdom       1837.28\n",
       "\n",
       "[4347 rows x 3 columns]"
      ]
     },
     "execution_count": 115,
     "metadata": {},
     "output_type": "execute_result"
    }
   ],
   "source": [
    "money_spent"
   ]
  },
  {
   "cell_type": "markdown",
   "id": "ad0b0993-5ef9-477c-913d-0645375910c1",
   "metadata": {},
   "source": [
    "# Top FIVE customers who spend highest money"
   ]
  },
  {
   "cell_type": "code",
   "execution_count": 117,
   "id": "310b18ad-b5dd-4672-80ac-683ee91725ce",
   "metadata": {},
   "outputs": [
    {
     "data": {
      "text/html": [
       "<div>\n",
       "<style scoped>\n",
       "    .dataframe tbody tr th:only-of-type {\n",
       "        vertical-align: middle;\n",
       "    }\n",
       "\n",
       "    .dataframe tbody tr th {\n",
       "        vertical-align: top;\n",
       "    }\n",
       "\n",
       "    .dataframe thead th {\n",
       "        text-align: right;\n",
       "    }\n",
       "</style>\n",
       "<table border=\"1\" class=\"dataframe\">\n",
       "  <thead>\n",
       "    <tr style=\"text-align: right;\">\n",
       "      <th></th>\n",
       "      <th>Customer_ID</th>\n",
       "      <th>country</th>\n",
       "      <th>Amount_Spend</th>\n",
       "    </tr>\n",
       "  </thead>\n",
       "  <tbody>\n",
       "    <tr>\n",
       "      <th>1698</th>\n",
       "      <td>14646</td>\n",
       "      <td>Netherlands</td>\n",
       "      <td>280206.02</td>\n",
       "    </tr>\n",
       "    <tr>\n",
       "      <th>4210</th>\n",
       "      <td>18102</td>\n",
       "      <td>United Kingdom</td>\n",
       "      <td>259657.30</td>\n",
       "    </tr>\n",
       "    <tr>\n",
       "      <th>3737</th>\n",
       "      <td>17450</td>\n",
       "      <td>United Kingdom</td>\n",
       "      <td>194550.79</td>\n",
       "    </tr>\n",
       "    <tr>\n",
       "      <th>3017</th>\n",
       "      <td>16446</td>\n",
       "      <td>United Kingdom</td>\n",
       "      <td>168472.50</td>\n",
       "    </tr>\n",
       "    <tr>\n",
       "      <th>1888</th>\n",
       "      <td>14911</td>\n",
       "      <td>EIRE</td>\n",
       "      <td>143825.06</td>\n",
       "    </tr>\n",
       "  </tbody>\n",
       "</table>\n",
       "</div>"
      ],
      "text/plain": [
       "      Customer_ID         country  Amount_Spend\n",
       "1698        14646     Netherlands     280206.02\n",
       "4210        18102  United Kingdom     259657.30\n",
       "3737        17450  United Kingdom     194550.79\n",
       "3017        16446  United Kingdom     168472.50\n",
       "1888        14911            EIRE     143825.06"
      ]
     },
     "execution_count": 117,
     "metadata": {},
     "output_type": "execute_result"
    }
   ],
   "source": [
    "df_new.groupby(by = [\"Customer_ID\",\"country\"],as_index = False)[\"Amount_Spend\"].sum().sort_values(by = \"Amount_Spend\",ascending = False).head()"
   ]
  },
  {
   "cell_type": "markdown",
   "id": "45bf55d2-70fc-469f-bee7-bf29196cab23",
   "metadata": {},
   "source": [
    "# Top TEN customers who spend highest money"
   ]
  },
  {
   "cell_type": "code",
   "execution_count": 119,
   "id": "961a4282-ff3f-4b1e-b6b5-accde1aaa8c6",
   "metadata": {},
   "outputs": [
    {
     "data": {
      "text/html": [
       "<div>\n",
       "<style scoped>\n",
       "    .dataframe tbody tr th:only-of-type {\n",
       "        vertical-align: middle;\n",
       "    }\n",
       "\n",
       "    .dataframe tbody tr th {\n",
       "        vertical-align: top;\n",
       "    }\n",
       "\n",
       "    .dataframe thead th {\n",
       "        text-align: right;\n",
       "    }\n",
       "</style>\n",
       "<table border=\"1\" class=\"dataframe\">\n",
       "  <thead>\n",
       "    <tr style=\"text-align: right;\">\n",
       "      <th></th>\n",
       "      <th>Customer_ID</th>\n",
       "      <th>country</th>\n",
       "      <th>Amount_Spend</th>\n",
       "    </tr>\n",
       "  </thead>\n",
       "  <tbody>\n",
       "    <tr>\n",
       "      <th>1698</th>\n",
       "      <td>14646</td>\n",
       "      <td>Netherlands</td>\n",
       "      <td>280206.02</td>\n",
       "    </tr>\n",
       "    <tr>\n",
       "      <th>4210</th>\n",
       "      <td>18102</td>\n",
       "      <td>United Kingdom</td>\n",
       "      <td>259657.30</td>\n",
       "    </tr>\n",
       "    <tr>\n",
       "      <th>3737</th>\n",
       "      <td>17450</td>\n",
       "      <td>United Kingdom</td>\n",
       "      <td>194550.79</td>\n",
       "    </tr>\n",
       "    <tr>\n",
       "      <th>3017</th>\n",
       "      <td>16446</td>\n",
       "      <td>United Kingdom</td>\n",
       "      <td>168472.50</td>\n",
       "    </tr>\n",
       "    <tr>\n",
       "      <th>1888</th>\n",
       "      <td>14911</td>\n",
       "      <td>EIRE</td>\n",
       "      <td>143825.06</td>\n",
       "    </tr>\n",
       "    <tr>\n",
       "      <th>57</th>\n",
       "      <td>12415</td>\n",
       "      <td>Australia</td>\n",
       "      <td>124914.53</td>\n",
       "    </tr>\n",
       "    <tr>\n",
       "      <th>1342</th>\n",
       "      <td>14156</td>\n",
       "      <td>EIRE</td>\n",
       "      <td>117379.63</td>\n",
       "    </tr>\n",
       "    <tr>\n",
       "      <th>3780</th>\n",
       "      <td>17511</td>\n",
       "      <td>United Kingdom</td>\n",
       "      <td>91062.38</td>\n",
       "    </tr>\n",
       "    <tr>\n",
       "      <th>2711</th>\n",
       "      <td>16029</td>\n",
       "      <td>United Kingdom</td>\n",
       "      <td>81024.84</td>\n",
       "    </tr>\n",
       "    <tr>\n",
       "      <th>0</th>\n",
       "      <td>12346</td>\n",
       "      <td>United Kingdom</td>\n",
       "      <td>77183.60</td>\n",
       "    </tr>\n",
       "  </tbody>\n",
       "</table>\n",
       "</div>"
      ],
      "text/plain": [
       "      Customer_ID         country  Amount_Spend\n",
       "1698        14646     Netherlands     280206.02\n",
       "4210        18102  United Kingdom     259657.30\n",
       "3737        17450  United Kingdom     194550.79\n",
       "3017        16446  United Kingdom     168472.50\n",
       "1888        14911            EIRE     143825.06\n",
       "57          12415       Australia     124914.53\n",
       "1342        14156            EIRE     117379.63\n",
       "3780        17511  United Kingdom      91062.38\n",
       "2711        16029  United Kingdom      81024.84\n",
       "0           12346  United Kingdom      77183.60"
      ]
     },
     "execution_count": 119,
     "metadata": {},
     "output_type": "execute_result"
    }
   ],
   "source": [
    "money_spent.sort_values(by = \"Amount_Spend\",ascending = False).head(10)"
   ]
  },
  {
   "cell_type": "markdown",
   "id": "054ec010-264e-4c5d-84c4-dbc75a56250f",
   "metadata": {},
   "source": [
    "# Visualizing - Money spent for different customers"
   ]
  },
  {
   "cell_type": "code",
   "execution_count": 121,
   "id": "6fe26d17-cf11-4dbd-a2cf-51ec3a1a3c51",
   "metadata": {},
   "outputs": [
    {
     "data": {
      "image/png": "[encoded data removed]",
      "text/plain": [
       "<Figure size 1500x600 with 1 Axes>"
      ]
     },
     "metadata": {},
     "output_type": "display_data"
    }
   ],
   "source": [
    "money_spent = df_new.groupby([\"Customer_ID\",\"country\"],as_index = False)[\"Amount_Spend\"].sum()\n",
    "\n",
    "plt.subplots(figsize = (15,6))\n",
    "\n",
    "plt.plot(money_spent[\"Customer_ID\"], money_spent[\"Amount_Spend\"])\n",
    "\n",
    "plt.xlabel(\"Customers ID\")\n",
    "plt.ylabel(\"Money spent (Dollar)\")\n",
    "plt.title(\"Money Spent for different Customers\")\n",
    "\n",
    "plt.show()"
   ]
  },
  {
   "cell_type": "markdown",
   "id": "6b8764e3-b781-438e-a855-ee39a6ac93a2",
   "metadata": {},
   "source": [
    "# Number of order for different months"
   ]
  },
  {
   "cell_type": "code",
   "execution_count": 123,
   "id": "01f227e5-4a58-42ff-8236-315f8dd70b72",
   "metadata": {},
   "outputs": [
    {
     "data": {
      "text/plain": [
       "Year_Month\n",
       "[201012]    1400\n",
       "[201101]     987\n",
       "[201102]     998\n",
       "[201103]    1321\n",
       "[201104]    1149\n",
       "[201105]    1555\n",
       "[201106]    1393\n",
       "[201107]    1331\n",
       "[201108]    1281\n",
       "[201109]    1756\n",
       "[201110]    1929\n",
       "[201111]    2658\n",
       "[201112]     778\n",
       "Name: count, dtype: int64"
      ]
     },
     "execution_count": 123,
     "metadata": {},
     "output_type": "execute_result"
    }
   ],
   "source": [
    "df_new.groupby(by = 'Invoice_No')['Year_Month'].unique().value_counts().sort_index()"
   ]
  },
  {
   "cell_type": "code",
   "execution_count": 124,
   "id": "93a8dd85-a7f7-4e6a-8ecb-a528c9fd5b97",
   "metadata": {},
   "outputs": [
    {
     "data": {
      "image/png": "[encoded data removed]",
      "text/plain": [
       "<Figure size 1500x600 with 1 Axes>"
      ]
     },
     "metadata": {},
     "output_type": "display_data"
    }
   ],
   "source": [
    "ax = df_new.groupby(by = \"Invoice_No\")[\"Year_Month\"].unique().value_counts().sort_index().plot(kind = \"bar\", figsize = (15,6))\n",
    "\n",
    "ax.set_xlabel(\"Month and Year\", fontsize = 15)\n",
    "ax.set_ylabel(\"Number of Orders\", fontsize = 15)\n",
    "ax.set_title(\"Number of orders for different Months (1st Dec 2010 - 9th Dec 2011)\", fontsize = 15)\n",
    "\n",
    "t = (\"Dec_10\", \"Jan_11\", \"Feb_11\", \"Mar_11\", \"Apr_11\", \"May_11\", \"Jun_11\", \"July_11\", \"Aug_11\", \"Sep_11\", \"Oct_11\", \"Nov_11\", \"Dec_11\")\n",
    "\n",
    "ax.set_xticklabels(t, rotation = \"horizontal\", fontsize = 13)\n",
    " \n",
    "plt.show()"
   ]
  },
  {
   "cell_type": "markdown",
   "id": "7d492261-e5d1-4108-b6b3-5f5bcae8265a",
   "metadata": {},
   "source": [
    "# Day wise sales count/business"
   ]
  },
  {
   "cell_type": "code",
   "execution_count": 126,
   "id": "6d5a41c4-be30-4cc6-b190-f7b1ac734842",
   "metadata": {},
   "outputs": [
    {
     "data": {
      "text/plain": [
       "Day\n",
       "[Thursday]     4033\n",
       "[Wednesday]    3455\n",
       "[Tuesday]      3185\n",
       "[Monday]       2863\n",
       "[Friday]       2831\n",
       "[Sunday]       2169\n",
       "Name: count, dtype: int64"
      ]
     },
     "execution_count": 126,
     "metadata": {},
     "output_type": "execute_result"
    }
   ],
   "source": [
    "df_new.groupby(\"Invoice_No\")[\"Day\"].unique().value_counts()"
   ]
  },
  {
   "cell_type": "code",
   "execution_count": 127,
   "id": "a4ae5597-67ba-4895-94e3-49bd69feeea1",
   "metadata": {},
   "outputs": [
    {
     "data": {
      "image/png": "[encoded data removed]",
      "text/plain": [
       "<Figure size 1500x600 with 1 Axes>"
      ]
     },
     "metadata": {},
     "output_type": "display_data"
    }
   ],
   "source": [
    "ax = df_new.groupby(\"Invoice_No\")[\"Day\"].unique().value_counts().plot(kind = \"bar\", figsize=(15,6))\n",
    "\n",
    "ax.set_xlabel(\"Day\", fontsize = 15)\n",
    "ax.set_ylabel(\"Number of Orders\", fontsize=15)\n",
    "ax.set_title(\"Number of orders for different Days\", fontsize = 15)\n",
    "\n",
    "d = (\"Thursday\", \"Wednesday\", \"Tuesday\", \"Monday\", \"Friday\", \"Sunday\")\n",
    "\n",
    "ax.set_xticklabels(d, rotation = \"horizontal\", fontsize = 15)\n",
    "\n",
    "plt.show()"
   ]
  },
  {
   "cell_type": "markdown",
   "id": "8b4c4296-0486-4834-9f60-d597ab258ef4",
   "metadata": {},
   "source": [
    "# Discover patterns for Unit Price"
   ]
  },
  {
   "cell_type": "code",
   "execution_count": 129,
   "id": "415d4109-3417-47fc-86b1-60e235e40d8d",
   "metadata": {},
   "outputs": [
    {
     "data": {
      "text/plain": [
       "count    397924.000000\n",
       "mean          3.116174\n",
       "std          22.096788\n",
       "min           0.000000\n",
       "25%           1.250000\n",
       "50%           1.950000\n",
       "75%           3.750000\n",
       "max        8142.750000\n",
       "Name: Unit_Price, dtype: float64"
      ]
     },
     "execution_count": 129,
     "metadata": {},
     "output_type": "execute_result"
    }
   ],
   "source": [
    "df_new.Unit_Price.describe()       # min value can be zero becuse there can be some free product "
   ]
  },
  {
   "cell_type": "markdown",
   "id": "93713f52-e7d8-49d2-ba37-9ac34372724e",
   "metadata": {},
   "source": [
    "# Checking the distribution of unit price"
   ]
  },
  {
   "cell_type": "code",
   "execution_count": 131,
   "id": "c7dcdfa6-2296-472c-a2a2-a47df81b30eb",
   "metadata": {},
   "outputs": [
    {
     "data": {
      "image/png": "[encoded data removed]",
      "text/plain": [
       "<Figure size 1200x600 with 1 Axes>"
      ]
     },
     "metadata": {},
     "output_type": "display_data"
    }
   ],
   "source": [
    "plt.subplots(figsize = (12,6))\n",
    "\n",
    "sns.boxplot(df_new.Unit_Price)\n",
    "plt.show()"
   ]
  },
  {
   "cell_type": "markdown",
   "id": "7370d116-83f8-4091-987d-881fecd54f11",
   "metadata": {},
   "source": [
    "# Filtering only free products(cost = 0)"
   ]
  },
  {
   "cell_type": "code",
   "execution_count": 133,
   "id": "00f150ee-d848-4d47-b497-e8b406dd6208",
   "metadata": {},
   "outputs": [],
   "source": [
    "df_free = df_new[df_new.Unit_Price == 0]"
   ]
  },
  {
   "cell_type": "code",
   "execution_count": 134,
   "id": "da3eab13-71c3-4bc4-a4ae-1b5be43f0656",
   "metadata": {},
   "outputs": [
    {
     "data": {
      "text/plain": [
       "40"
      ]
     },
     "execution_count": 134,
     "metadata": {},
     "output_type": "execute_result"
    }
   ],
   "source": [
    "len(df_free)   "
   ]
  },
  {
   "cell_type": "code",
   "execution_count": 135,
   "id": "9c416933-7901-45f4-b974-72d0c4c81522",
   "metadata": {},
   "outputs": [
    {
     "data": {
      "text/plain": [
       "Year_Month\n",
       "201012     3\n",
       "201101     3\n",
       "201102     1\n",
       "201103     2\n",
       "201104     2\n",
       "201105     2\n",
       "201107     2\n",
       "201108     6\n",
       "201109     2\n",
       "201110     3\n",
       "201111    14\n",
       "Name: count, dtype: int64"
      ]
     },
     "execution_count": 135,
     "metadata": {},
     "output_type": "execute_result"
    }
   ],
   "source": [
    "df_free.Year_Month.value_counts().sort_index()"
   ]
  },
  {
   "cell_type": "code",
   "execution_count": 136,
   "id": "374778b8-fc82-4ea6-909b-a5558b2d0868",
   "metadata": {},
   "outputs": [
    {
     "data": {
      "image/png": "[encoded data removed]",
      "text/plain": [
       "<Figure size 1200x600 with 1 Axes>"
      ]
     },
     "metadata": {},
     "output_type": "display_data"
    }
   ],
   "source": [
    "ax = df_free.Year_Month.value_counts().sort_index().plot(kind = \"bar\", figsize=(12,6))\n",
    "\n",
    "ax.set_xlabel(\"Month\", fontsize=15)\n",
    "ax.set_ylabel(\"Frequency\", fontsize=15)\n",
    "ax.set_title(\"Frequency for different Months (Dec 2010 - Dec 2011)\", fontsize=15)\n",
    "\n",
    "m = (\"Dec_10\", \"Jan_11\", \"Feb_11\", \"Mar_11\", \"Apr_11\", \"May_11\", \"July_11\", \"Aug_11\", \"Sep_11\", \"Oct_11\", \"Nov_11\")\n",
    "\n",
    "ax.set_xticklabels(m, rotation=\"horizontal\", fontsize=13)\n",
    "\n",
    "plt.show()"
   ]
  },
  {
   "cell_type": "markdown",
   "id": "bd1743e8-0f9e-498f-9501-5e1e9acc4d2e",
   "metadata": {},
   "source": [
    "# How many orders for each country"
   ]
  },
  {
   "cell_type": "code",
   "execution_count": 138,
   "id": "d47da10d-76c8-4282-bc39-2a918dcdbc68",
   "metadata": {},
   "outputs": [
    {
     "data": {
      "text/plain": [
       "country\n",
       "United Kingdom          354345\n",
       "Germany                   9042\n",
       "France                    8342\n",
       "EIRE                      7238\n",
       "Spain                     2485\n",
       "Netherlands               2363\n",
       "Belgium                   2031\n",
       "Switzerland               1842\n",
       "Portugal                  1462\n",
       "Australia                 1185\n",
       "Norway                    1072\n",
       "Italy                      758\n",
       "Channel Islands            748\n",
       "Finland                    685\n",
       "Cyprus                     614\n",
       "Sweden                     451\n",
       "Austria                    398\n",
       "Denmark                    380\n",
       "Poland                     330\n",
       "Japan                      321\n",
       "Israel                     248\n",
       "Unspecified                244\n",
       "Singapore                  222\n",
       "Iceland                    182\n",
       "USA                        179\n",
       "Canada                     151\n",
       "Greece                     145\n",
       "Malta                      112\n",
       "United Arab Emirates        68\n",
       "European Community          60\n",
       "RSA                         58\n",
       "Lebanon                     45\n",
       "Lithuania                   35\n",
       "Brazil                      32\n",
       "Czech Republic              25\n",
       "Bahrain                     17\n",
       "Saudi Arabia                 9\n",
       "Name: Invoice_No, dtype: int64"
      ]
     },
     "execution_count": 138,
     "metadata": {},
     "output_type": "execute_result"
    }
   ],
   "source": [
    "df_new.groupby(\"country\")[\"Invoice_No\"].count().sort_values(ascending = False)"
   ]
  },
  {
   "cell_type": "code",
   "execution_count": 139,
   "id": "980aa2ce-781b-4044-866b-e8a67c22a2dc",
   "metadata": {},
   "outputs": [
    {
     "data": {
      "image/png": "[encoded data removed]",
      "text/plain": [
       "<Figure size 1500x800 with 1 Axes>"
      ]
     },
     "metadata": {},
     "output_type": "display_data"
    }
   ],
   "source": [
    "group_country_orders = df_new.groupby(\"country\")[\"Invoice_No\"].count().sort_values()\n",
    "\n",
    "plt.subplots(figsize=(15,8))\n",
    "\n",
    "group_country_orders.plot(kind = \"barh\", fontsize=12)\n",
    "\n",
    "plt.xlabel(\"Number of Orders\", fontsize=12)\n",
    "plt.ylabel(\"Country\", fontsize=12)\n",
    "plt.title(\"Number of Orders for different Countries\", fontsize=12)\n",
    "\n",
    "plt.show()"
   ]
  },
  {
   "cell_type": "code",
   "execution_count": 140,
   "id": "a88b56c9-c83f-47d2-94d1-bfa8a240f8be",
   "metadata": {},
   "outputs": [
    {
     "data": {
      "image/png": "[encoded data removed]",
      "text/plain": [
       "<Figure size 1500x800 with 1 Axes>"
      ]
     },
     "metadata": {},
     "output_type": "display_data"
    }
   ],
   "source": [
    "group_country_orders = df_new.groupby(\"country\")[\"Invoice_No\"].count().sort_values()\n",
    "del group_country_orders[\"United Kingdom\"]\n",
    "\n",
    "plt.subplots(figsize=(15,8))\n",
    "\n",
    "group_country_orders.plot(kind = \"barh\", fontsize=12)\n",
    "\n",
    "plt.xlabel(\"Number of Orders\", fontsize=12)\n",
    "plt.ylabel(\"Country\", fontsize=12)\n",
    "plt.title(\"Number of Orders for different Countries\", fontsize=12)\n",
    "\n",
    "plt.show()"
   ]
  },
  {
   "cell_type": "markdown",
   "id": "24aeaaf6-939f-4190-9ebb-ce1a3b21bc95",
   "metadata": {},
   "source": [
    "# How much money spent by each country?"
   ]
  },
  {
   "cell_type": "code",
   "execution_count": 142,
   "id": "26b0a59e-4174-4370-a8a4-49c7462fca31",
   "metadata": {},
   "outputs": [
    {
     "data": {
      "text/plain": [
       "country\n",
       "United Kingdom          7308391.554\n",
       "Netherlands              285446.340\n",
       "EIRE                     265545.900\n",
       "Germany                  228867.140\n",
       "France                   209024.050\n",
       "Australia                138521.310\n",
       "Spain                     61577.110\n",
       "Switzerland               56443.950\n",
       "Belgium                   41196.340\n",
       "Sweden                    38378.330\n",
       "Japan                     37416.370\n",
       "Norway                    36165.440\n",
       "Portugal                  33439.890\n",
       "Finland                   22546.080\n",
       "Singapore                 21279.290\n",
       "Channel Islands           20450.440\n",
       "Denmark                   18955.340\n",
       "Italy                     17483.240\n",
       "Cyprus                    13590.380\n",
       "Austria                   10198.680\n",
       "Poland                     7334.650\n",
       "Israel                     7221.690\n",
       "Greece                     4760.520\n",
       "Iceland                    4310.000\n",
       "Canada                     3666.380\n",
       "USA                        3580.390\n",
       "Malta                      2725.590\n",
       "Unspecified                2667.070\n",
       "United Arab Emirates       1902.280\n",
       "Lebanon                    1693.880\n",
       "Lithuania                  1661.060\n",
       "European Community         1300.250\n",
       "Brazil                     1143.600\n",
       "RSA                        1002.310\n",
       "Czech Republic              826.740\n",
       "Bahrain                     548.400\n",
       "Saudi Arabia                145.920\n",
       "Name: Amount_Spend, dtype: float64"
      ]
     },
     "execution_count": 142,
     "metadata": {},
     "output_type": "execute_result"
    }
   ],
   "source": [
    "df_new.groupby(\"country\")[\"Amount_Spend\"].sum().sort_values(ascending = False)"
   ]
  },
  {
   "cell_type": "code",
   "execution_count": 143,
   "id": "1304ef07-38a1-471e-b224-e9847965f37a",
   "metadata": {},
   "outputs": [
    {
     "data": {
      "image/png": "[encoded data removed]",
      "text/plain": [
       "<Figure size 1500x800 with 1 Axes>"
      ]
     },
     "metadata": {},
     "output_type": "display_data"
    }
   ],
   "source": [
    "group_country_amount_spent = df_new.groupby(\"country\")[\"Amount_Spend\"].sum().sort_values()\n",
    "\n",
    "plt.subplots(figsize=(15,8))\n",
    "\n",
    "group_country_amount_spent.plot(kind = \"barh\", fontsize=12)\n",
    "\n",
    "plt.xlabel(\"Money Spent (Dollar)\", fontsize=12)\n",
    "plt.ylabel(\"Country\", fontsize=12)\n",
    "plt.title(\"Money Spent by different Countries\", fontsize=12)\n",
    "\n",
    "plt.show()"
   ]
  },
  {
   "cell_type": "code",
   "execution_count": 144,
   "id": "59d78e67-8698-44db-bd92-0e1c77ec8598",
   "metadata": {},
   "outputs": [
    {
     "data": {
      "image/png": "[encoded data removed]",
      "text/plain": [
       "<Figure size 1500x800 with 1 Axes>"
      ]
     },
     "metadata": {},
     "output_type": "display_data"
    }
   ],
   "source": [
    "group_country_amount_spent = df_new.groupby(\"country\")[\"Amount_Spend\"].sum().sort_values()\n",
    "del group_country_amount_spent[\"United Kingdom\"]\n",
    "\n",
    "plt.subplots(figsize=(15,8))\n",
    "\n",
    "group_country_amount_spent.plot(kind = \"barh\", fontsize=12)\n",
    "\n",
    "plt.xlabel(\"Money Spent (Dollar)\", fontsize=12)\n",
    "plt.ylabel(\"Country\", fontsize=12)\n",
    "plt.title(\"Money Spent by different Countries\", fontsize=12)\n",
    "\n",
    "plt.show()"
   ]
  },
  {
   "cell_type": "markdown",
   "id": "77c7fcb0-53ab-4d7f-9a45-3d37b07c3023",
   "metadata": {},
   "source": [
    "# EDA"
   ]
  }
 ],
 "metadata": {
  "kernelspec": {
   "display_name": "Python 3 (ipykernel)",
   "language": "python",
   "name": "python3"
  },
  "language_info": {
   "codemirror_mode": {
    "name": "ipython",
    "version": 3
   },
   "file_extension": ".py",
   "mimetype": "text/x-python",
   "name": "python",
   "nbconvert_exporter": "python",
   "pygments_lexer": "ipython3",
   "version": "3.12.4"
  }
 },
 "nbformat": 4,
 "nbformat_minor": 5
}
